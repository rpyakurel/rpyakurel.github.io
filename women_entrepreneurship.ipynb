{
  "nbformat": 4,
  "nbformat_minor": 0,
  "metadata": {
    "colab": {
      "name": "women_entrepreneurship.ipynb",
      "provenance": [],
      "authorship_tag": "ABX9TyMUWSdcdcdMOtTB/rXDONBk",
      "include_colab_link": true
    },
    "kernelspec": {
      "name": "python3",
      "display_name": "Python 3"
    }
  },
  "cells": [
    {
      "cell_type": "markdown",
      "metadata": {
        "id": "view-in-github",
        "colab_type": "text"
      },
      "source": [
        "<a href=\"https://colab.research.google.com/github/rpyakurel/rpyakurel.github.io/blob/main/women_entrepreneurship.ipynb\" target=\"_parent\"><img src=\"https://colab.research.google.com/assets/colab-badge.svg\" alt=\"Open In Colab\"/></a>"
      ]
    },
    {
      "cell_type": "markdown",
      "metadata": {
        "id": "s2-hXiQfi2WS"
      },
      "source": [
        "#**Women Entrepreneurship and Labor Force Ananlysis**\r\n",
        "\r\n",
        "\r\n",
        "\r\n",
        "\r\n",
        "---\r\n",
        "\r\n",
        "\r\n",
        "\r\n"
      ]
    },
    {
      "cell_type": "code",
      "metadata": {
        "id": "EMpFO4gNB3A5",
        "colab": {
          "base_uri": "https://localhost:8080/"
        },
        "outputId": "b32b76d7-3874-4f44-dc87-b2f7a79f883d"
      },
      "source": [
        "from google.colab import drive\n",
        "drive.mount('/content/gdrive')"
      ],
      "execution_count": null,
      "outputs": [
        {
          "output_type": "stream",
          "text": [
            "Mounted at /content/gdrive\n"
          ],
          "name": "stdout"
        }
      ]
    },
    {
      "cell_type": "code",
      "metadata": {
        "id": "41AEm3dj_VJA"
      },
      "source": [
        "# Importing all the necessary libraries\n",
        "\n",
        "import math\n",
        "import numpy as np\n",
        "import pandas as pd\n",
        "import matplotlib.pyplot as plt\n",
        "import seaborn as sns\n",
        "from scipy import stats\n",
        "import plotly.express as px\n"
      ],
      "execution_count": null,
      "outputs": []
    },
    {
      "cell_type": "markdown",
      "metadata": {
        "id": "ydL4b0H-h6BV"
      },
      "source": [
        "##**The Data**\r\n",
        "\r\n",
        "1. The Women Entrepreneurs and Labor Index dataset from Kaggle. It contains data from Organization for Economic Co-operation and Development (OECD) countries from 2015. It includes data about women’s participation in the workforce and their contribution to the entrepreneur index. \r\n",
        "2. A custom dataset directly from the Global Entrepreneurship Monitor website that has more factors in regards to entrepreneurial ventures such as a fear of failure rate, perception of opportunities, and the ratio of female to male new entrepreneurs. \r\n",
        "\r\n"
      ]
    },
    {
      "cell_type": "code",
      "metadata": {
        "id": "DrtarMshB6ZZ"
      },
      "source": [
        "first_set = pd.read_csv('/content/gdrive/My Drive/Colab Datasets/womenent.csv', sep= ';')\n",
        "second_set = pd.read_csv('/content/gdrive/My Drive/Colab Datasets/gem.csv')\n"
      ],
      "execution_count": null,
      "outputs": []
    },
    {
      "cell_type": "code",
      "metadata": {
        "colab": {
          "base_uri": "https://localhost:8080/",
          "height": 238
        },
        "id": "jY_RKZXICG8q",
        "outputId": "c67169a4-1dab-4b52-c9d0-47f66cb92b58"
      },
      "source": [
        "#joining the two sets together and removing unnecessary columns \n",
        "\n",
        "merged_df = pd.merge(first_set, second_set, on= 'Country', how= 'left')\n",
        "new_df = merged_df.drop(['No', 'code', 'year'], axis= 1)\n",
        "new_df.head()\n"
      ],
      "execution_count": null,
      "outputs": [
        {
          "output_type": "execute_result",
          "data": {
            "text/html": [
              "<div>\n",
              "<style scoped>\n",
              "    .dataframe tbody tr th:only-of-type {\n",
              "        vertical-align: middle;\n",
              "    }\n",
              "\n",
              "    .dataframe tbody tr th {\n",
              "        vertical-align: top;\n",
              "    }\n",
              "\n",
              "    .dataframe thead th {\n",
              "        text-align: right;\n",
              "    }\n",
              "</style>\n",
              "<table border=\"1\" class=\"dataframe\">\n",
              "  <thead>\n",
              "    <tr style=\"text-align: right;\">\n",
              "      <th></th>\n",
              "      <th>Country</th>\n",
              "      <th>Level of development</th>\n",
              "      <th>European Union Membership</th>\n",
              "      <th>Currency</th>\n",
              "      <th>Women Entrepreneurship Index</th>\n",
              "      <th>Entrepreneurship Index</th>\n",
              "      <th>Inflation rate</th>\n",
              "      <th>Female Labor Force Participation Rate</th>\n",
              "      <th>Perceived opportunities</th>\n",
              "      <th>Fear of failure rate *</th>\n",
              "      <th>Total early-stage Entrepreneurial Activity (TEA)</th>\n",
              "      <th>Female/Male TEA</th>\n",
              "      <th>Female/Male Opportunity-Driven TEA</th>\n",
              "    </tr>\n",
              "  </thead>\n",
              "  <tbody>\n",
              "    <tr>\n",
              "      <th>0</th>\n",
              "      <td>Austria</td>\n",
              "      <td>Developed</td>\n",
              "      <td>Member</td>\n",
              "      <td>Euro</td>\n",
              "      <td>54.9</td>\n",
              "      <td>64.9</td>\n",
              "      <td>0.90</td>\n",
              "      <td>67.1</td>\n",
              "      <td>NaN</td>\n",
              "      <td>NaN</td>\n",
              "      <td>NaN</td>\n",
              "      <td>NaN</td>\n",
              "      <td>NaN</td>\n",
              "    </tr>\n",
              "    <tr>\n",
              "      <th>1</th>\n",
              "      <td>Belgium</td>\n",
              "      <td>Developed</td>\n",
              "      <td>Member</td>\n",
              "      <td>Euro</td>\n",
              "      <td>63.6</td>\n",
              "      <td>65.5</td>\n",
              "      <td>0.60</td>\n",
              "      <td>58.0</td>\n",
              "      <td>40.26</td>\n",
              "      <td>48.48</td>\n",
              "      <td>6.24</td>\n",
              "      <td>0.66</td>\n",
              "      <td>0.63</td>\n",
              "    </tr>\n",
              "    <tr>\n",
              "      <th>2</th>\n",
              "      <td>Estonia</td>\n",
              "      <td>Developed</td>\n",
              "      <td>Member</td>\n",
              "      <td>Euro</td>\n",
              "      <td>55.4</td>\n",
              "      <td>60.2</td>\n",
              "      <td>-0.88</td>\n",
              "      <td>68.5</td>\n",
              "      <td>51.43</td>\n",
              "      <td>39.30</td>\n",
              "      <td>13.14</td>\n",
              "      <td>0.58</td>\n",
              "      <td>1.04</td>\n",
              "    </tr>\n",
              "    <tr>\n",
              "      <th>3</th>\n",
              "      <td>Finland</td>\n",
              "      <td>Developed</td>\n",
              "      <td>Member</td>\n",
              "      <td>Euro</td>\n",
              "      <td>66.4</td>\n",
              "      <td>65.7</td>\n",
              "      <td>-0.20</td>\n",
              "      <td>67.7</td>\n",
              "      <td>48.62</td>\n",
              "      <td>32.62</td>\n",
              "      <td>6.59</td>\n",
              "      <td>0.47</td>\n",
              "      <td>0.85</td>\n",
              "    </tr>\n",
              "    <tr>\n",
              "      <th>4</th>\n",
              "      <td>France</td>\n",
              "      <td>Developed</td>\n",
              "      <td>Member</td>\n",
              "      <td>Euro</td>\n",
              "      <td>68.8</td>\n",
              "      <td>67.3</td>\n",
              "      <td>0.00</td>\n",
              "      <td>60.6</td>\n",
              "      <td>NaN</td>\n",
              "      <td>NaN</td>\n",
              "      <td>NaN</td>\n",
              "      <td>NaN</td>\n",
              "      <td>NaN</td>\n",
              "    </tr>\n",
              "  </tbody>\n",
              "</table>\n",
              "</div>"
            ],
            "text/plain": [
              "   Country  ... Female/Male Opportunity-Driven TEA\n",
              "0  Austria  ...                                NaN\n",
              "1  Belgium  ...                               0.63\n",
              "2  Estonia  ...                               1.04\n",
              "3  Finland  ...                               0.85\n",
              "4   France  ...                                NaN\n",
              "\n",
              "[5 rows x 13 columns]"
            ]
          },
          "metadata": {
            "tags": []
          },
          "execution_count": 4
        }
      ]
    },
    {
      "cell_type": "markdown",
      "metadata": {
        "id": "zYM7FEW7pzJS"
      },
      "source": [
        "###**High Level Data Exploration**\n",
        "\n",
        "\n",
        "\n"
      ]
    },
    {
      "cell_type": "code",
      "metadata": {
        "colab": {
          "base_uri": "https://localhost:8080/"
        },
        "id": "vG7YBg2eDMq7",
        "outputId": "682b97ec-4a55-492d-8449-ff0497673bcb"
      },
      "source": [
        "new_df.shape"
      ],
      "execution_count": null,
      "outputs": [
        {
          "output_type": "execute_result",
          "data": {
            "text/plain": [
              "(51, 13)"
            ]
          },
          "metadata": {
            "tags": []
          },
          "execution_count": 5
        }
      ]
    },
    {
      "cell_type": "code",
      "metadata": {
        "colab": {
          "base_uri": "https://localhost:8080/"
        },
        "id": "uwuB8WQgBDdZ",
        "outputId": "f8f3a9b7-f360-4803-bf76-96158a8aa9f3"
      },
      "source": [
        "new_df.keys()"
      ],
      "execution_count": null,
      "outputs": [
        {
          "output_type": "execute_result",
          "data": {
            "text/plain": [
              "Index(['Country', 'Level of development', 'European Union Membership',\n",
              "       'Currency', 'Women Entrepreneurship Index', 'Entrepreneurship Index',\n",
              "       'Inflation rate', 'Female Labor Force Participation Rate',\n",
              "       'Perceived opportunities', 'Fear of failure rate *',\n",
              "       'Total early-stage Entrepreneurial Activity (TEA)', 'Female/Male TEA',\n",
              "       'Female/Male Opportunity-Driven TEA'],\n",
              "      dtype='object')"
            ]
          },
          "metadata": {
            "tags": []
          },
          "execution_count": 6
        }
      ]
    },
    {
      "cell_type": "code",
      "metadata": {
        "colab": {
          "base_uri": "https://localhost:8080/"
        },
        "id": "rQa8s99kpwTi",
        "outputId": "eabe2aa2-204a-4df5-ca06-f30ee216a33e"
      },
      "source": [
        "new_df.info()"
      ],
      "execution_count": null,
      "outputs": [
        {
          "output_type": "stream",
          "text": [
            "<class 'pandas.core.frame.DataFrame'>\n",
            "Int64Index: 51 entries, 0 to 50\n",
            "Data columns (total 13 columns):\n",
            " #   Column                                            Non-Null Count  Dtype  \n",
            "---  ------                                            --------------  -----  \n",
            " 0   Country                                           51 non-null     object \n",
            " 1   Level of development                              51 non-null     object \n",
            " 2   European Union Membership                         51 non-null     object \n",
            " 3   Currency                                          51 non-null     object \n",
            " 4   Women Entrepreneurship Index                      51 non-null     float64\n",
            " 5   Entrepreneurship Index                            51 non-null     float64\n",
            " 6   Inflation rate                                    51 non-null     float64\n",
            " 7   Female Labor Force Participation Rate             51 non-null     float64\n",
            " 8   Perceived opportunities                           33 non-null     float64\n",
            " 9   Fear of failure rate *                            33 non-null     float64\n",
            " 10  Total early-stage Entrepreneurial Activity (TEA)  33 non-null     float64\n",
            " 11  Female/Male TEA                                   33 non-null     float64\n",
            " 12  Female/Male Opportunity-Driven TEA                33 non-null     float64\n",
            "dtypes: float64(9), object(4)\n",
            "memory usage: 5.6+ KB\n"
          ],
          "name": "stdout"
        }
      ]
    },
    {
      "cell_type": "code",
      "metadata": {
        "id": "DkJ5PH63jJjN",
        "colab": {
          "base_uri": "https://localhost:8080/",
          "height": 204
        },
        "outputId": "c46a555d-d801-43f7-c64d-6feb4a3084d4"
      },
      "source": [
        "# Shortening and cleaning up column titles\n",
        "\n",
        "new_df.rename(columns= {\n",
        "    'Level of development': 'Level of dev', 'European Union Membership': 'EU member', 'Women Entrepreneurship Index': 'Female EI', 'Entrepreneurship Index': 'EI','Female Labor Force Participation Rate': 'Female labor rate', 'Fear of failure rate *': 'Fear of failure rate', 'Total early-stage Entrepreneurial Activity (TEA)':'TEA', 'Female/Male TEA': 'F/M TEA', 'Female/Male Opportunity-Driven TEA': 'F/M OD TEA'\n",
        "    }, inplace= True)\n",
        "new_df.head()\n",
        "\n",
        "\n"
      ],
      "execution_count": null,
      "outputs": [
        {
          "output_type": "execute_result",
          "data": {
            "text/html": [
              "<div>\n",
              "<style scoped>\n",
              "    .dataframe tbody tr th:only-of-type {\n",
              "        vertical-align: middle;\n",
              "    }\n",
              "\n",
              "    .dataframe tbody tr th {\n",
              "        vertical-align: top;\n",
              "    }\n",
              "\n",
              "    .dataframe thead th {\n",
              "        text-align: right;\n",
              "    }\n",
              "</style>\n",
              "<table border=\"1\" class=\"dataframe\">\n",
              "  <thead>\n",
              "    <tr style=\"text-align: right;\">\n",
              "      <th></th>\n",
              "      <th>Country</th>\n",
              "      <th>Level of dev</th>\n",
              "      <th>EU member</th>\n",
              "      <th>Currency</th>\n",
              "      <th>Female EI</th>\n",
              "      <th>EI</th>\n",
              "      <th>Inflation rate</th>\n",
              "      <th>Female labor rate</th>\n",
              "      <th>Perceived opportunities</th>\n",
              "      <th>Fear of failure rate</th>\n",
              "      <th>TEA</th>\n",
              "      <th>F/M TEA</th>\n",
              "      <th>F/M OD TEA</th>\n",
              "    </tr>\n",
              "  </thead>\n",
              "  <tbody>\n",
              "    <tr>\n",
              "      <th>0</th>\n",
              "      <td>Austria</td>\n",
              "      <td>Developed</td>\n",
              "      <td>Member</td>\n",
              "      <td>Euro</td>\n",
              "      <td>54.9</td>\n",
              "      <td>64.9</td>\n",
              "      <td>0.90</td>\n",
              "      <td>67.1</td>\n",
              "      <td>NaN</td>\n",
              "      <td>NaN</td>\n",
              "      <td>NaN</td>\n",
              "      <td>NaN</td>\n",
              "      <td>NaN</td>\n",
              "    </tr>\n",
              "    <tr>\n",
              "      <th>1</th>\n",
              "      <td>Belgium</td>\n",
              "      <td>Developed</td>\n",
              "      <td>Member</td>\n",
              "      <td>Euro</td>\n",
              "      <td>63.6</td>\n",
              "      <td>65.5</td>\n",
              "      <td>0.60</td>\n",
              "      <td>58.0</td>\n",
              "      <td>40.26</td>\n",
              "      <td>48.48</td>\n",
              "      <td>6.24</td>\n",
              "      <td>0.66</td>\n",
              "      <td>0.63</td>\n",
              "    </tr>\n",
              "    <tr>\n",
              "      <th>2</th>\n",
              "      <td>Estonia</td>\n",
              "      <td>Developed</td>\n",
              "      <td>Member</td>\n",
              "      <td>Euro</td>\n",
              "      <td>55.4</td>\n",
              "      <td>60.2</td>\n",
              "      <td>-0.88</td>\n",
              "      <td>68.5</td>\n",
              "      <td>51.43</td>\n",
              "      <td>39.30</td>\n",
              "      <td>13.14</td>\n",
              "      <td>0.58</td>\n",
              "      <td>1.04</td>\n",
              "    </tr>\n",
              "    <tr>\n",
              "      <th>3</th>\n",
              "      <td>Finland</td>\n",
              "      <td>Developed</td>\n",
              "      <td>Member</td>\n",
              "      <td>Euro</td>\n",
              "      <td>66.4</td>\n",
              "      <td>65.7</td>\n",
              "      <td>-0.20</td>\n",
              "      <td>67.7</td>\n",
              "      <td>48.62</td>\n",
              "      <td>32.62</td>\n",
              "      <td>6.59</td>\n",
              "      <td>0.47</td>\n",
              "      <td>0.85</td>\n",
              "    </tr>\n",
              "    <tr>\n",
              "      <th>4</th>\n",
              "      <td>France</td>\n",
              "      <td>Developed</td>\n",
              "      <td>Member</td>\n",
              "      <td>Euro</td>\n",
              "      <td>68.8</td>\n",
              "      <td>67.3</td>\n",
              "      <td>0.00</td>\n",
              "      <td>60.6</td>\n",
              "      <td>NaN</td>\n",
              "      <td>NaN</td>\n",
              "      <td>NaN</td>\n",
              "      <td>NaN</td>\n",
              "      <td>NaN</td>\n",
              "    </tr>\n",
              "  </tbody>\n",
              "</table>\n",
              "</div>"
            ],
            "text/plain": [
              "   Country Level of dev EU member  ...    TEA  F/M TEA  F/M OD TEA\n",
              "0  Austria    Developed    Member  ...    NaN      NaN         NaN\n",
              "1  Belgium    Developed    Member  ...   6.24     0.66        0.63\n",
              "2  Estonia    Developed    Member  ...  13.14     0.58        1.04\n",
              "3  Finland    Developed    Member  ...   6.59     0.47        0.85\n",
              "4   France    Developed    Member  ...    NaN      NaN         NaN\n",
              "\n",
              "[5 rows x 13 columns]"
            ]
          },
          "metadata": {
            "tags": []
          },
          "execution_count": 8
        }
      ]
    },
    {
      "cell_type": "code",
      "metadata": {
        "colab": {
          "base_uri": "https://localhost:8080/"
        },
        "id": "y1PAFfKFkBRi",
        "outputId": "2b44aa53-5118-4e5a-d4c9-f469141f4c9f"
      },
      "source": [
        "# Counting null values \n",
        "\n",
        "new_df.isna().sum()"
      ],
      "execution_count": null,
      "outputs": [
        {
          "output_type": "execute_result",
          "data": {
            "text/plain": [
              "Country                     0\n",
              "Level of dev                0\n",
              "EU member                   0\n",
              "Currency                    0\n",
              "Female EI                   0\n",
              "EI                          0\n",
              "Inflation rate              0\n",
              "Female labor rate           0\n",
              "Perceived opportunities    18\n",
              "Fear of failure rate       18\n",
              "TEA                        18\n",
              "F/M TEA                    18\n",
              "F/M OD TEA                 18\n",
              "dtype: int64"
            ]
          },
          "metadata": {
            "tags": []
          },
          "execution_count": 9
        }
      ]
    },
    {
      "cell_type": "code",
      "metadata": {
        "colab": {
          "base_uri": "https://localhost:8080/",
          "height": 297
        },
        "id": "46asNNfPXpMU",
        "outputId": "d2b7a964-a078-4499-fbb4-f079d17b4bee"
      },
      "source": [
        "new_df.describe()"
      ],
      "execution_count": null,
      "outputs": [
        {
          "output_type": "execute_result",
          "data": {
            "text/html": [
              "<div>\n",
              "<style scoped>\n",
              "    .dataframe tbody tr th:only-of-type {\n",
              "        vertical-align: middle;\n",
              "    }\n",
              "\n",
              "    .dataframe tbody tr th {\n",
              "        vertical-align: top;\n",
              "    }\n",
              "\n",
              "    .dataframe thead th {\n",
              "        text-align: right;\n",
              "    }\n",
              "</style>\n",
              "<table border=\"1\" class=\"dataframe\">\n",
              "  <thead>\n",
              "    <tr style=\"text-align: right;\">\n",
              "      <th></th>\n",
              "      <th>Female EI</th>\n",
              "      <th>EI</th>\n",
              "      <th>Inflation rate</th>\n",
              "      <th>Female labor rate</th>\n",
              "      <th>Perceived opportunities</th>\n",
              "      <th>Fear of failure rate</th>\n",
              "      <th>TEA</th>\n",
              "      <th>F/M TEA</th>\n",
              "      <th>F/M OD TEA</th>\n",
              "    </tr>\n",
              "  </thead>\n",
              "  <tbody>\n",
              "    <tr>\n",
              "      <th>count</th>\n",
              "      <td>51.000000</td>\n",
              "      <td>51.000000</td>\n",
              "      <td>51.000000</td>\n",
              "      <td>51.000000</td>\n",
              "      <td>33.000000</td>\n",
              "      <td>33.000000</td>\n",
              "      <td>33.000000</td>\n",
              "      <td>33.000000</td>\n",
              "      <td>33.000000</td>\n",
              "    </tr>\n",
              "    <tr>\n",
              "      <th>mean</th>\n",
              "      <td>47.835294</td>\n",
              "      <td>47.241176</td>\n",
              "      <td>2.587647</td>\n",
              "      <td>58.481765</td>\n",
              "      <td>39.719091</td>\n",
              "      <td>37.396970</td>\n",
              "      <td>10.899394</td>\n",
              "      <td>0.629697</td>\n",
              "      <td>0.936364</td>\n",
              "    </tr>\n",
              "    <tr>\n",
              "      <th>std</th>\n",
              "      <td>14.268480</td>\n",
              "      <td>16.193149</td>\n",
              "      <td>5.380639</td>\n",
              "      <td>13.864567</td>\n",
              "      <td>12.703889</td>\n",
              "      <td>8.016052</td>\n",
              "      <td>6.387674</td>\n",
              "      <td>0.222844</td>\n",
              "      <td>0.129006</td>\n",
              "    </tr>\n",
              "    <tr>\n",
              "      <th>min</th>\n",
              "      <td>25.300000</td>\n",
              "      <td>24.800000</td>\n",
              "      <td>-2.250000</td>\n",
              "      <td>13.000000</td>\n",
              "      <td>14.190000</td>\n",
              "      <td>23.070000</td>\n",
              "      <td>2.930000</td>\n",
              "      <td>0.320000</td>\n",
              "      <td>0.630000</td>\n",
              "    </tr>\n",
              "    <tr>\n",
              "      <th>25%</th>\n",
              "      <td>36.350000</td>\n",
              "      <td>31.900000</td>\n",
              "      <td>-0.500000</td>\n",
              "      <td>55.800000</td>\n",
              "      <td>30.220000</td>\n",
              "      <td>32.620000</td>\n",
              "      <td>6.750000</td>\n",
              "      <td>0.480000</td>\n",
              "      <td>0.880000</td>\n",
              "    </tr>\n",
              "    <tr>\n",
              "      <th>50%</th>\n",
              "      <td>44.500000</td>\n",
              "      <td>42.700000</td>\n",
              "      <td>0.600000</td>\n",
              "      <td>61.000000</td>\n",
              "      <td>40.260000</td>\n",
              "      <td>38.600000</td>\n",
              "      <td>9.210000</td>\n",
              "      <td>0.540000</td>\n",
              "      <td>0.940000</td>\n",
              "    </tr>\n",
              "    <tr>\n",
              "      <th>75%</th>\n",
              "      <td>59.150000</td>\n",
              "      <td>65.400000</td>\n",
              "      <td>3.600000</td>\n",
              "      <td>67.400000</td>\n",
              "      <td>48.360000</td>\n",
              "      <td>42.290000</td>\n",
              "      <td>13.140000</td>\n",
              "      <td>0.790000</td>\n",
              "      <td>0.990000</td>\n",
              "    </tr>\n",
              "    <tr>\n",
              "      <th>max</th>\n",
              "      <td>74.800000</td>\n",
              "      <td>77.600000</td>\n",
              "      <td>26.500000</td>\n",
              "      <td>82.300000</td>\n",
              "      <td>70.220000</td>\n",
              "      <td>57.460000</td>\n",
              "      <td>33.560000</td>\n",
              "      <td>1.160000</td>\n",
              "      <td>1.170000</td>\n",
              "    </tr>\n",
              "  </tbody>\n",
              "</table>\n",
              "</div>"
            ],
            "text/plain": [
              "       Female EI         EI  Inflation rate  ...        TEA    F/M TEA  F/M OD TEA\n",
              "count  51.000000  51.000000       51.000000  ...  33.000000  33.000000   33.000000\n",
              "mean   47.835294  47.241176        2.587647  ...  10.899394   0.629697    0.936364\n",
              "std    14.268480  16.193149        5.380639  ...   6.387674   0.222844    0.129006\n",
              "min    25.300000  24.800000       -2.250000  ...   2.930000   0.320000    0.630000\n",
              "25%    36.350000  31.900000       -0.500000  ...   6.750000   0.480000    0.880000\n",
              "50%    44.500000  42.700000        0.600000  ...   9.210000   0.540000    0.940000\n",
              "75%    59.150000  65.400000        3.600000  ...  13.140000   0.790000    0.990000\n",
              "max    74.800000  77.600000       26.500000  ...  33.560000   1.160000    1.170000\n",
              "\n",
              "[8 rows x 9 columns]"
            ]
          },
          "metadata": {
            "tags": []
          },
          "execution_count": 10
        }
      ]
    },
    {
      "cell_type": "code",
      "metadata": {
        "id": "4X10jwYTUy1t"
      },
      "source": [
        "# filling null values \r\n",
        "# using only the mean or median significantly changed the standard deviation and the 25th and the 75th quartile.\r\n",
        "#so we are using INTERPOLATE(), then using MEAN() to fill in the remaining value.\r\n",
        "\r\n",
        "updated_df = new_df.fillna(new_df.interpolate())\r\n",
        "updated_df = updated_df.fillna(updated_df.mean())"
      ],
      "execution_count": null,
      "outputs": []
    },
    {
      "cell_type": "code",
      "metadata": {
        "colab": {
          "base_uri": "https://localhost:8080/"
        },
        "id": "iOeTYtgFYKn1",
        "outputId": "02d70ed4-f519-4762-9673-b5f9647c7e4c"
      },
      "source": [
        "updated_df.isna().sum()"
      ],
      "execution_count": null,
      "outputs": [
        {
          "output_type": "execute_result",
          "data": {
            "text/plain": [
              "Country                    0\n",
              "Level of dev               0\n",
              "EU member                  0\n",
              "Currency                   0\n",
              "Female EI                  0\n",
              "EI                         0\n",
              "Inflation rate             0\n",
              "Female labor rate          0\n",
              "Perceived opportunities    0\n",
              "Fear of failure rate       0\n",
              "TEA                        0\n",
              "F/M TEA                    0\n",
              "F/M OD TEA                 0\n",
              "dtype: int64"
            ]
          },
          "metadata": {
            "tags": []
          },
          "execution_count": 12
        }
      ]
    },
    {
      "cell_type": "code",
      "metadata": {
        "colab": {
          "base_uri": "https://localhost:8080/",
          "height": 297
        },
        "id": "2JAVyxraXNyR",
        "outputId": "9000b87b-5c5a-4f01-8550-7a6af0ed8416"
      },
      "source": [
        "updated_df.describe()"
      ],
      "execution_count": null,
      "outputs": [
        {
          "output_type": "execute_result",
          "data": {
            "text/html": [
              "<div>\n",
              "<style scoped>\n",
              "    .dataframe tbody tr th:only-of-type {\n",
              "        vertical-align: middle;\n",
              "    }\n",
              "\n",
              "    .dataframe tbody tr th {\n",
              "        vertical-align: top;\n",
              "    }\n",
              "\n",
              "    .dataframe thead th {\n",
              "        text-align: right;\n",
              "    }\n",
              "</style>\n",
              "<table border=\"1\" class=\"dataframe\">\n",
              "  <thead>\n",
              "    <tr style=\"text-align: right;\">\n",
              "      <th></th>\n",
              "      <th>Female EI</th>\n",
              "      <th>EI</th>\n",
              "      <th>Inflation rate</th>\n",
              "      <th>Female labor rate</th>\n",
              "      <th>Perceived opportunities</th>\n",
              "      <th>Fear of failure rate</th>\n",
              "      <th>TEA</th>\n",
              "      <th>F/M TEA</th>\n",
              "      <th>F/M OD TEA</th>\n",
              "    </tr>\n",
              "  </thead>\n",
              "  <tbody>\n",
              "    <tr>\n",
              "      <th>count</th>\n",
              "      <td>51.000000</td>\n",
              "      <td>51.000000</td>\n",
              "      <td>51.000000</td>\n",
              "      <td>51.000000</td>\n",
              "      <td>51.000000</td>\n",
              "      <td>51.000000</td>\n",
              "      <td>51.000000</td>\n",
              "      <td>51.000000</td>\n",
              "      <td>51.000000</td>\n",
              "    </tr>\n",
              "    <tr>\n",
              "      <th>mean</th>\n",
              "      <td>47.835294</td>\n",
              "      <td>47.241176</td>\n",
              "      <td>2.587647</td>\n",
              "      <td>58.481765</td>\n",
              "      <td>40.949100</td>\n",
              "      <td>36.860200</td>\n",
              "      <td>11.266200</td>\n",
              "      <td>0.645400</td>\n",
              "      <td>0.933500</td>\n",
              "    </tr>\n",
              "    <tr>\n",
              "      <th>std</th>\n",
              "      <td>14.268480</td>\n",
              "      <td>16.193149</td>\n",
              "      <td>5.380639</td>\n",
              "      <td>13.864567</td>\n",
              "      <td>11.512058</td>\n",
              "      <td>6.628799</td>\n",
              "      <td>6.017633</td>\n",
              "      <td>0.220579</td>\n",
              "      <td>0.119237</td>\n",
              "    </tr>\n",
              "    <tr>\n",
              "      <th>min</th>\n",
              "      <td>25.300000</td>\n",
              "      <td>24.800000</td>\n",
              "      <td>-2.250000</td>\n",
              "      <td>13.000000</td>\n",
              "      <td>14.190000</td>\n",
              "      <td>23.070000</td>\n",
              "      <td>2.930000</td>\n",
              "      <td>0.320000</td>\n",
              "      <td>0.630000</td>\n",
              "    </tr>\n",
              "    <tr>\n",
              "      <th>25%</th>\n",
              "      <td>36.350000</td>\n",
              "      <td>31.900000</td>\n",
              "      <td>-0.500000</td>\n",
              "      <td>55.800000</td>\n",
              "      <td>33.748333</td>\n",
              "      <td>32.963333</td>\n",
              "      <td>7.185000</td>\n",
              "      <td>0.498333</td>\n",
              "      <td>0.871667</td>\n",
              "    </tr>\n",
              "    <tr>\n",
              "      <th>50%</th>\n",
              "      <td>44.500000</td>\n",
              "      <td>42.700000</td>\n",
              "      <td>0.600000</td>\n",
              "      <td>61.000000</td>\n",
              "      <td>41.790000</td>\n",
              "      <td>36.450000</td>\n",
              "      <td>9.640000</td>\n",
              "      <td>0.580000</td>\n",
              "      <td>0.935000</td>\n",
              "    </tr>\n",
              "    <tr>\n",
              "      <th>75%</th>\n",
              "      <td>59.150000</td>\n",
              "      <td>65.400000</td>\n",
              "      <td>3.600000</td>\n",
              "      <td>67.400000</td>\n",
              "      <td>47.208333</td>\n",
              "      <td>40.105000</td>\n",
              "      <td>13.440000</td>\n",
              "      <td>0.800000</td>\n",
              "      <td>1.007500</td>\n",
              "    </tr>\n",
              "    <tr>\n",
              "      <th>max</th>\n",
              "      <td>74.800000</td>\n",
              "      <td>77.600000</td>\n",
              "      <td>26.500000</td>\n",
              "      <td>82.300000</td>\n",
              "      <td>70.220000</td>\n",
              "      <td>57.460000</td>\n",
              "      <td>33.560000</td>\n",
              "      <td>1.160000</td>\n",
              "      <td>1.170000</td>\n",
              "    </tr>\n",
              "  </tbody>\n",
              "</table>\n",
              "</div>"
            ],
            "text/plain": [
              "       Female EI         EI  Inflation rate  ...        TEA    F/M TEA  F/M OD TEA\n",
              "count  51.000000  51.000000       51.000000  ...  51.000000  51.000000   51.000000\n",
              "mean   47.835294  47.241176        2.587647  ...  11.266200   0.645400    0.933500\n",
              "std    14.268480  16.193149        5.380639  ...   6.017633   0.220579    0.119237\n",
              "min    25.300000  24.800000       -2.250000  ...   2.930000   0.320000    0.630000\n",
              "25%    36.350000  31.900000       -0.500000  ...   7.185000   0.498333    0.871667\n",
              "50%    44.500000  42.700000        0.600000  ...   9.640000   0.580000    0.935000\n",
              "75%    59.150000  65.400000        3.600000  ...  13.440000   0.800000    1.007500\n",
              "max    74.800000  77.600000       26.500000  ...  33.560000   1.160000    1.170000\n",
              "\n",
              "[8 rows x 9 columns]"
            ]
          },
          "metadata": {
            "tags": []
          },
          "execution_count": 13
        }
      ]
    },
    {
      "cell_type": "code",
      "metadata": {
        "id": "QqxNcfEC5ZLU"
      },
      "source": [
        "# separating developed and developing countries into two separate dfs\r\n",
        "\r\n",
        "non_dev_countries = updated_df.iloc[(updated_df['Level of dev'] == 'Developing').values]\r\n",
        "dev_countries = updated_df.iloc[(updated_df['Level of dev'] == 'Developed').values]"
      ],
      "execution_count": null,
      "outputs": []
    },
    {
      "cell_type": "markdown",
      "metadata": {
        "id": "WpYpvxy-X-Oz"
      },
      "source": [
        "###**Sorting countries by women entrepreneurship index.**\n",
        "*Then looking at the top and bottom 5 countries to see if there are any commanlities in which to delve further.* \n",
        "\n",
        "\n",
        "---\n",
        "\n"
      ]
    },
    {
      "cell_type": "code",
      "metadata": {
        "colab": {
          "base_uri": "https://localhost:8080/"
        },
        "id": "atX4YVqhXIQA",
        "outputId": "dbb30239-a3a3-4bc2-d3ea-636121c0446c"
      },
      "source": [
        "x= updated_df.sort_values(by=['Female EI'], ascending= False)\n",
        "x.head()"
      ],
      "execution_count": null,
      "outputs": [
        {
          "output_type": "execute_result",
          "data": {
            "text/html": [
              "<div>\n",
              "<style scoped>\n",
              "    .dataframe tbody tr th:only-of-type {\n",
              "        vertical-align: middle;\n",
              "    }\n",
              "\n",
              "    .dataframe tbody tr th {\n",
              "        vertical-align: top;\n",
              "    }\n",
              "\n",
              "    .dataframe thead th {\n",
              "        text-align: right;\n",
              "    }\n",
              "</style>\n",
              "<table border=\"1\" class=\"dataframe\">\n",
              "  <thead>\n",
              "    <tr style=\"text-align: right;\">\n",
              "      <th></th>\n",
              "      <th>Country</th>\n",
              "      <th>Level of dev</th>\n",
              "      <th>EU member</th>\n",
              "      <th>Currency</th>\n",
              "      <th>Female EI</th>\n",
              "      <th>EI</th>\n",
              "      <th>Inflation rate</th>\n",
              "      <th>Female labor rate</th>\n",
              "      <th>Perceived opportunities</th>\n",
              "      <th>Fear of failure rate</th>\n",
              "      <th>TEA</th>\n",
              "      <th>F/M TEA</th>\n",
              "      <th>F/M OD TEA</th>\n",
              "    </tr>\n",
              "  </thead>\n",
              "  <tbody>\n",
              "    <tr>\n",
              "      <th>20</th>\n",
              "      <td>Australia</td>\n",
              "      <td>Developed</td>\n",
              "      <td>Not Member</td>\n",
              "      <td>National Currency</td>\n",
              "      <td>74.8</td>\n",
              "      <td>77.6</td>\n",
              "      <td>1.5</td>\n",
              "      <td>66.8</td>\n",
              "      <td>48.870000</td>\n",
              "      <td>41.670000</td>\n",
              "      <td>12.790000</td>\n",
              "      <td>0.650000</td>\n",
              "      <td>0.940</td>\n",
              "    </tr>\n",
              "    <tr>\n",
              "      <th>16</th>\n",
              "      <td>Denmark</td>\n",
              "      <td>Developed</td>\n",
              "      <td>Member</td>\n",
              "      <td>National Currency</td>\n",
              "      <td>69.7</td>\n",
              "      <td>71.4</td>\n",
              "      <td>0.5</td>\n",
              "      <td>70.3</td>\n",
              "      <td>23.820000</td>\n",
              "      <td>38.120000</td>\n",
              "      <td>7.805000</td>\n",
              "      <td>0.560000</td>\n",
              "      <td>0.805</td>\n",
              "    </tr>\n",
              "    <tr>\n",
              "      <th>11</th>\n",
              "      <td>Netherlands</td>\n",
              "      <td>Developed</td>\n",
              "      <td>Member</td>\n",
              "      <td>Euro</td>\n",
              "      <td>69.3</td>\n",
              "      <td>66.5</td>\n",
              "      <td>0.6</td>\n",
              "      <td>69.2</td>\n",
              "      <td>48.360000</td>\n",
              "      <td>33.170000</td>\n",
              "      <td>7.210000</td>\n",
              "      <td>0.320000</td>\n",
              "      <td>1.170</td>\n",
              "    </tr>\n",
              "    <tr>\n",
              "      <th>4</th>\n",
              "      <td>France</td>\n",
              "      <td>Developed</td>\n",
              "      <td>Member</td>\n",
              "      <td>Euro</td>\n",
              "      <td>68.8</td>\n",
              "      <td>67.3</td>\n",
              "      <td>0.0</td>\n",
              "      <td>60.6</td>\n",
              "      <td>43.445000</td>\n",
              "      <td>37.455000</td>\n",
              "      <td>5.645000</td>\n",
              "      <td>0.505000</td>\n",
              "      <td>0.885</td>\n",
              "    </tr>\n",
              "    <tr>\n",
              "      <th>21</th>\n",
              "      <td>Iceland</td>\n",
              "      <td>Developed</td>\n",
              "      <td>Not Member</td>\n",
              "      <td>National Currency</td>\n",
              "      <td>68.0</td>\n",
              "      <td>70.4</td>\n",
              "      <td>1.6</td>\n",
              "      <td>82.3</td>\n",
              "      <td>55.556667</td>\n",
              "      <td>38.916667</td>\n",
              "      <td>10.413333</td>\n",
              "      <td>0.603333</td>\n",
              "      <td>0.990</td>\n",
              "    </tr>\n",
              "  </tbody>\n",
              "</table>\n",
              "</div>"
            ],
            "text/plain": [
              "        Country Level of dev   EU member  ...        TEA   F/M TEA  F/M OD TEA\n",
              "20    Australia    Developed  Not Member  ...  12.790000  0.650000       0.940\n",
              "16      Denmark    Developed      Member  ...   7.805000  0.560000       0.805\n",
              "11  Netherlands    Developed      Member  ...   7.210000  0.320000       1.170\n",
              "4        France    Developed      Member  ...   5.645000  0.505000       0.885\n",
              "21      Iceland    Developed  Not Member  ...  10.413333  0.603333       0.990\n",
              "\n",
              "[5 rows x 13 columns]"
            ]
          },
          "metadata": {
            "tags": []
          },
          "execution_count": 15
        }
      ]
    },
    {
      "cell_type": "code",
      "metadata": {
        "colab": {
          "base_uri": "https://localhost:8080/"
        },
        "id": "Qn5xVW_gX7Nt",
        "outputId": "8cb5936c-ff61-4421-e650-acb1f93029c5"
      },
      "source": [
        "x.tail()"
      ],
      "execution_count": null,
      "outputs": [
        {
          "output_type": "execute_result",
          "data": {
            "text/html": [
              "<div>\n",
              "<style scoped>\n",
              "    .dataframe tbody tr th:only-of-type {\n",
              "        vertical-align: middle;\n",
              "    }\n",
              "\n",
              "    .dataframe tbody tr th {\n",
              "        vertical-align: top;\n",
              "    }\n",
              "\n",
              "    .dataframe thead th {\n",
              "        text-align: right;\n",
              "    }\n",
              "</style>\n",
              "<table border=\"1\" class=\"dataframe\">\n",
              "  <thead>\n",
              "    <tr style=\"text-align: right;\">\n",
              "      <th></th>\n",
              "      <th>Country</th>\n",
              "      <th>Level of dev</th>\n",
              "      <th>EU member</th>\n",
              "      <th>Currency</th>\n",
              "      <th>Female EI</th>\n",
              "      <th>EI</th>\n",
              "      <th>Inflation rate</th>\n",
              "      <th>Female labor rate</th>\n",
              "      <th>Perceived opportunities</th>\n",
              "      <th>Fear of failure rate</th>\n",
              "      <th>TEA</th>\n",
              "      <th>F/M TEA</th>\n",
              "      <th>F/M OD TEA</th>\n",
              "    </tr>\n",
              "  </thead>\n",
              "  <tbody>\n",
              "    <tr>\n",
              "      <th>29</th>\n",
              "      <td>Bolivia</td>\n",
              "      <td>Developing</td>\n",
              "      <td>Not Member</td>\n",
              "      <td>National Currency</td>\n",
              "      <td>29.7</td>\n",
              "      <td>28.0</td>\n",
              "      <td>4.1</td>\n",
              "      <td>69.4</td>\n",
              "      <td>44.713333</td>\n",
              "      <td>32.113333</td>\n",
              "      <td>18.820000</td>\n",
              "      <td>0.840000</td>\n",
              "      <td>0.776667</td>\n",
              "    </tr>\n",
              "    <tr>\n",
              "      <th>35</th>\n",
              "      <td>Egypt</td>\n",
              "      <td>Developing</td>\n",
              "      <td>Not Member</td>\n",
              "      <td>National Currency</td>\n",
              "      <td>27.7</td>\n",
              "      <td>28.1</td>\n",
              "      <td>11.0</td>\n",
              "      <td>64.6</td>\n",
              "      <td>46.070000</td>\n",
              "      <td>29.500000</td>\n",
              "      <td>7.390000</td>\n",
              "      <td>0.330000</td>\n",
              "      <td>0.730000</td>\n",
              "    </tr>\n",
              "    <tr>\n",
              "      <th>27</th>\n",
              "      <td>Algeria</td>\n",
              "      <td>Developing</td>\n",
              "      <td>Not Member</td>\n",
              "      <td>National Currency</td>\n",
              "      <td>27.4</td>\n",
              "      <td>30.2</td>\n",
              "      <td>4.8</td>\n",
              "      <td>18.0</td>\n",
              "      <td>38.050000</td>\n",
              "      <td>34.795000</td>\n",
              "      <td>12.520000</td>\n",
              "      <td>0.645000</td>\n",
              "      <td>0.870000</td>\n",
              "    </tr>\n",
              "    <tr>\n",
              "      <th>37</th>\n",
              "      <td>Ghana</td>\n",
              "      <td>Developing</td>\n",
              "      <td>Not Member</td>\n",
              "      <td>National Currency</td>\n",
              "      <td>25.8</td>\n",
              "      <td>24.8</td>\n",
              "      <td>17.2</td>\n",
              "      <td>60.8</td>\n",
              "      <td>40.550000</td>\n",
              "      <td>39.173333</td>\n",
              "      <td>9.683333</td>\n",
              "      <td>0.496667</td>\n",
              "      <td>0.956667</td>\n",
              "    </tr>\n",
              "    <tr>\n",
              "      <th>38</th>\n",
              "      <td>India</td>\n",
              "      <td>Developing</td>\n",
              "      <td>Not Member</td>\n",
              "      <td>National Currency</td>\n",
              "      <td>25.3</td>\n",
              "      <td>25.3</td>\n",
              "      <td>5.9</td>\n",
              "      <td>61.1</td>\n",
              "      <td>37.790000</td>\n",
              "      <td>44.010000</td>\n",
              "      <td>10.830000</td>\n",
              "      <td>0.580000</td>\n",
              "      <td>1.070000</td>\n",
              "    </tr>\n",
              "  </tbody>\n",
              "</table>\n",
              "</div>"
            ],
            "text/plain": [
              "    Country Level of dev   EU member  ...        TEA   F/M TEA  F/M OD TEA\n",
              "29  Bolivia   Developing  Not Member  ...  18.820000  0.840000    0.776667\n",
              "35    Egypt   Developing  Not Member  ...   7.390000  0.330000    0.730000\n",
              "27  Algeria   Developing  Not Member  ...  12.520000  0.645000    0.870000\n",
              "37    Ghana   Developing  Not Member  ...   9.683333  0.496667    0.956667\n",
              "38    India   Developing  Not Member  ...  10.830000  0.580000    1.070000\n",
              "\n",
              "[5 rows x 13 columns]"
            ]
          },
          "metadata": {
            "tags": []
          },
          "execution_count": 16
        }
      ]
    },
    {
      "cell_type": "markdown",
      "metadata": {
        "id": "WfaKGFj0-aoo"
      },
      "source": [
        "From the data snippet above, there does not seem to be too many commonalities in the top and bottom five countries, other than level of development. \\\r\n",
        "For example, India has the lowest female entrepreneurial index and a fairly low inflation rate. \r\n",
        "So, we will go ahead and move on to isolating some factors and looking into potential correlations. "
      ]
    },
    {
      "cell_type": "code",
      "metadata": {
        "colab": {
          "base_uri": "https://localhost:8080/"
        },
        "id": "pAwuVjabZmZ8",
        "outputId": "a686c479-c565-47f3-c16f-dc163006cf52"
      },
      "source": [
        "updated_df.value_counts(['EU member'])"
      ],
      "execution_count": null,
      "outputs": [
        {
          "output_type": "execute_result",
          "data": {
            "text/plain": [
              "EU member \n",
              "Not Member    31\n",
              "Member        20\n",
              "dtype: int64"
            ]
          },
          "metadata": {
            "tags": []
          },
          "execution_count": 17
        }
      ]
    },
    {
      "cell_type": "code",
      "metadata": {
        "colab": {
          "base_uri": "https://localhost:8080/"
        },
        "id": "GMzUE7R7ZwS_",
        "outputId": "49332b12-10ee-4fa6-a042-962817b3d3e2"
      },
      "source": [
        "updated_df.value_counts(['Level of dev'])"
      ],
      "execution_count": null,
      "outputs": [
        {
          "output_type": "execute_result",
          "data": {
            "text/plain": [
              "Level of dev\n",
              "Developed       27\n",
              "Developing      24\n",
              "dtype: int64"
            ]
          },
          "metadata": {
            "tags": []
          },
          "execution_count": 18
        }
      ]
    },
    {
      "cell_type": "code",
      "metadata": {
        "colab": {
          "base_uri": "https://localhost:8080/"
        },
        "id": "t4QqyA2LBx1a",
        "outputId": "a558166e-2b38-49cb-e168-a228a75f3715"
      },
      "source": [
        "# looking at the breakdown of categorical data\n",
        "\n",
        "categorical_data = ['Level of dev', 'EU member', 'Currency']\n",
        "\n",
        "for val in categorical_data:\n",
        "  updated_df[val].value_counts().plot(kind= 'bar')\n",
        "  plt.title(val)\n",
        "  plt.grid()\n",
        "  plt.show()"
      ],
      "execution_count": null,
      "outputs": [
        {
          "output_type": "display_data",
          "data": {
            "image/png": "[encoded data removed]",
            "text/plain": [
              "<Figure size 432x288 with 1 Axes>"
            ]
          },
          "metadata": {
            "tags": [],
            "needs_background": "light"
          }
        },
        {
          "output_type": "display_data",
          "data": {
            "image/png": "[encoded data removed]",
            "text/plain": [
              "<Figure size 432x288 with 1 Axes>"
            ]
          },
          "metadata": {
            "tags": [],
            "needs_background": "light"
          }
        },
        {
          "output_type": "display_data",
          "data": {
            "image/png": "[encoded data removed]",
            "text/plain": [
              "<Figure size 432x288 with 1 Axes>"
            ]
          },
          "metadata": {
            "tags": [],
            "needs_background": "light"
          }
        }
      ]
    },
    {
      "cell_type": "markdown",
      "metadata": {
        "id": "jk_SwvCXrNV_"
      },
      "source": [
        "###Checking for significant difference between the following in developed vs. developing countries:\r\n",
        "*1. Female labor participation*\\\r\n",
        "*2.Female entrepreneurial index*\r\n",
        "\r\n",
        "\r\n",
        "\r\n",
        "\r\n"
      ]
    },
    {
      "cell_type": "code",
      "metadata": {
        "colab": {
          "base_uri": "https://localhost:8080/"
        },
        "id": "WHManNKJ5iA_",
        "outputId": "94d09741-514f-47f3-8d3e-7530cd143054"
      },
      "source": [
        "plt.figure(figsize=(10,7))\n",
        "figure1 = sns.boxplot(y= 'Female labor rate', x= 'Level of dev', data= updated_df ).set_title('Female Labor Rate in Devloped vs. Developing Countries')\n"
      ],
      "execution_count": null,
      "outputs": [
        {
          "output_type": "display_data",
          "data": {
            "image/png": "[encoded data removed]",
            "text/plain": [
              "<Figure size 720x504 with 1 Axes>"
            ]
          },
          "metadata": {
            "tags": [],
            "needs_background": "light"
          }
        }
      ]
    },
    {
      "cell_type": "code",
      "metadata": {
        "colab": {
          "base_uri": "https://localhost:8080/"
        },
        "id": "b1uwgLv37aH-",
        "outputId": "ed30b72f-44a1-4c3e-f84d-2b7319280b86"
      },
      "source": [
        "plt.figure(figsize=(10,7))\n",
        "figure2 = sns.boxplot(y= 'Female EI', x= 'Level of dev', data= updated_df, )\n",
        "plt.suptitle('Female Entrepreneurship Index in Developed vs. Developing Countries')\n",
        "plt.show(figure2)"
      ],
      "execution_count": null,
      "outputs": [
        {
          "output_type": "display_data",
          "data": {
            "image/png": "[encoded data removed]",
            "text/plain": [
              "<Figure size 720x504 with 1 Axes>"
            ]
          },
          "metadata": {
            "tags": [],
            "needs_background": "light"
          }
        }
      ]
    },
    {
      "cell_type": "code",
      "metadata": {
        "id": "vJh23g2N7-i3",
        "colab": {
          "base_uri": "https://localhost:8080/"
        },
        "outputId": "d1b075a9-5144-4e40-cf4a-6ff35ed55cd6"
      },
      "source": [
        "stats.ttest_ind(dev_countries['Female labor rate'], non_dev_countries['Female labor rate'])"
      ],
      "execution_count": null,
      "outputs": [
        {
          "output_type": "execute_result",
          "data": {
            "text/plain": [
              "Ttest_indResult(statistic=2.6707743023877413, pvalue=0.010241078946722557)"
            ]
          },
          "metadata": {
            "tags": []
          },
          "execution_count": 22
        }
      ]
    },
    {
      "cell_type": "code",
      "metadata": {
        "colab": {
          "base_uri": "https://localhost:8080/"
        },
        "id": "tYcCZ-Qq-e2s",
        "outputId": "32d96e13-99ed-4af2-b1bc-77b5e69d7a8c"
      },
      "source": [
        "stats.ttest_ind(dev_countries['Female EI'], non_dev_countries['Female EI'])"
      ],
      "execution_count": null,
      "outputs": [
        {
          "output_type": "execute_result",
          "data": {
            "text/plain": [
              "Ttest_indResult(statistic=12.076566656391318, pvalue=2.674295611546847e-16)"
            ]
          },
          "metadata": {
            "tags": []
          },
          "execution_count": 23
        }
      ]
    },
    {
      "cell_type": "markdown",
      "metadata": {
        "id": "Q99wDOrc-xZN"
      },
      "source": [
        "From the visualizations and the T-tests above, it looks like there is a significant difference between both female participation rate and female entrepreneurial index in developed and developing countries.\r\n",
        "\r\n",
        "\r\n",
        "That may mean there is some opportunities for both female entreprenuers and business investors to close the gap in the market in developing nations.\r\n",
        "On the other hand there may be less opportunities to do so. Which we will look at further down.\r\n",
        "\r\n",
        "\r\n",
        "\r\n",
        "---\r\n",
        "\r\n",
        "\r\n",
        "\r\n"
      ]
    },
    {
      "cell_type": "markdown",
      "metadata": {
        "id": "7nvSlLyTAyAB"
      },
      "source": [
        "### Checking whether there is a significant difference between EU members and both developed non members and developing members in female entrepreneurial rates. "
      ]
    },
    {
      "cell_type": "code",
      "metadata": {
        "id": "saOOhsS8FLv7"
      },
      "source": [
        "eu_members = updated_df.iloc[(updated_df['EU member'] == 'Member').values]\r\n",
        "non_members = updated_df.iloc[(updated_df['EU member']!= 'Member').values]"
      ],
      "execution_count": null,
      "outputs": []
    },
    {
      "cell_type": "code",
      "metadata": {
        "colab": {
          "base_uri": "https://localhost:8080/"
        },
        "id": "FLIVQtZDqfma",
        "outputId": "0abaddc1-555a-427a-d55d-b7a42333ae34"
      },
      "source": [
        "plt.figure(figsize=(10,7))\n",
        "figure3 = sns.countplot(y= 'Level of dev', hue = 'EU member', data = updated_df)\n",
        "plt.xlabel('Number of countries')\n",
        "plt.ylabel('Level of development')\n",
        "plt.title('EU Membership by Developed and Developing Countries')\n",
        "plt.show(figure3)"
      ],
      "execution_count": null,
      "outputs": [
        {
          "output_type": "display_data",
          "data": {
            "image/png": "[encoded data removed]",
            "text/plain": [
              "<Figure size 720x504 with 1 Axes>"
            ]
          },
          "metadata": {
            "tags": [],
            "needs_background": "light"
          }
        }
      ]
    },
    {
      "cell_type": "code",
      "metadata": {
        "colab": {
          "base_uri": "https://localhost:8080/"
        },
        "id": "_QStw2Rn8L8S",
        "outputId": "a011dd43-e4a2-4c2a-8f70-d7b13d5b56bf"
      },
      "source": [
        "plt.figure(figsize=(10,7))\n",
        "figure4 = sns.catplot(y= 'Female EI', x= 'Level of dev', col= 'EU member', kind= 'box', data= updated_df)\n",
        "plt.subplots_adjust(top=0.8)\n",
        "plt.suptitle('Breakdown of Female EI in EU members and non-members')\n",
        "plt.show(figure4)"
      ],
      "execution_count": null,
      "outputs": [
        {
          "output_type": "display_data",
          "data": {
            "text/plain": [
              "<Figure size 720x504 with 0 Axes>"
            ]
          },
          "metadata": {
            "tags": []
          }
        },
        {
          "output_type": "display_data",
          "data": {
            "image/png": "[encoded data removed]",
            "text/plain": [
              "<Figure size 720x360 with 2 Axes>"
            ]
          },
          "metadata": {
            "tags": [],
            "needs_background": "light"
          }
        }
      ]
    },
    {
      "cell_type": "code",
      "metadata": {
        "colab": {
          "base_uri": "https://localhost:8080/"
        },
        "id": "7R39rVgQN_Cb",
        "outputId": "82e5ed8c-3601-410b-b3a3-3e003cb2918e"
      },
      "source": [
        "stats.ttest_ind(eu_members['Female EI'], non_members['Female EI'])"
      ],
      "execution_count": null,
      "outputs": [
        {
          "output_type": "execute_result",
          "data": {
            "text/plain": [
              "Ttest_indResult(statistic=5.609944770084068, pvalue=9.282369170679536e-07)"
            ]
          },
          "metadata": {
            "tags": []
          },
          "execution_count": 27
        }
      ]
    },
    {
      "cell_type": "code",
      "metadata": {
        "colab": {
          "base_uri": "https://localhost:8080/"
        },
        "id": "zvnAtg9t07AA",
        "outputId": "c2ddd620-8e73-4a04-bb54-47ae9abe8611"
      },
      "source": [
        "#checking values of outlying data points \r\n",
        "\r\n",
        "dev_countries.iloc[(dev_countries['Female EI'] == dev_countries['Female EI'].min()).values]"
      ],
      "execution_count": null,
      "outputs": [
        {
          "output_type": "execute_result",
          "data": {
            "text/html": [
              "<div>\n",
              "<style scoped>\n",
              "    .dataframe tbody tr th:only-of-type {\n",
              "        vertical-align: middle;\n",
              "    }\n",
              "\n",
              "    .dataframe tbody tr th {\n",
              "        vertical-align: top;\n",
              "    }\n",
              "\n",
              "    .dataframe thead th {\n",
              "        text-align: right;\n",
              "    }\n",
              "</style>\n",
              "<table border=\"1\" class=\"dataframe\">\n",
              "  <thead>\n",
              "    <tr style=\"text-align: right;\">\n",
              "      <th></th>\n",
              "      <th>Country</th>\n",
              "      <th>Level of dev</th>\n",
              "      <th>EU member</th>\n",
              "      <th>Currency</th>\n",
              "      <th>Female EI</th>\n",
              "      <th>EI</th>\n",
              "      <th>Inflation rate</th>\n",
              "      <th>Female labor rate</th>\n",
              "      <th>Perceived opportunities</th>\n",
              "      <th>Fear of failure rate</th>\n",
              "      <th>TEA</th>\n",
              "      <th>F/M TEA</th>\n",
              "      <th>F/M OD TEA</th>\n",
              "    </tr>\n",
              "  </thead>\n",
              "  <tbody>\n",
              "    <tr>\n",
              "      <th>22</th>\n",
              "      <td>Japan</td>\n",
              "      <td>Developed</td>\n",
              "      <td>Not Member</td>\n",
              "      <td>National Currency</td>\n",
              "      <td>40.0</td>\n",
              "      <td>49.5</td>\n",
              "      <td>0.8</td>\n",
              "      <td>64.7</td>\n",
              "      <td>62.243333</td>\n",
              "      <td>36.163333</td>\n",
              "      <td>8.036667</td>\n",
              "      <td>0.556667</td>\n",
              "      <td>1.04</td>\n",
              "    </tr>\n",
              "  </tbody>\n",
              "</table>\n",
              "</div>"
            ],
            "text/plain": [
              "   Country Level of dev   EU member  ...       TEA   F/M TEA  F/M OD TEA\n",
              "22   Japan    Developed  Not Member  ...  8.036667  0.556667        1.04\n",
              "\n",
              "[1 rows x 13 columns]"
            ]
          },
          "metadata": {
            "tags": []
          },
          "execution_count": 28
        }
      ]
    },
    {
      "cell_type": "markdown",
      "metadata": {
        "id": "FI01QlY8Og9Q"
      },
      "source": [
        "The graphs above show that there aren't any developing countries that are EU members. But there are non-member developed countries.\r\n",
        "The p-value comparing the female entrepreneurship index between EU members and non-members is quite small so it is satistically significant. \\\r\n",
        "\\\r\n",
        "So women in EU nations or developed non-member nations are more likely to own businesses. So these options may be a safer bet for business investors. \r\n",
        "\r\n",
        "\r\n",
        "\r\n",
        "\r\n",
        "---\r\n",
        "\r\n",
        "\r\n",
        "\r\n",
        "\r\n"
      ]
    },
    {
      "cell_type": "markdown",
      "metadata": {
        "id": "FvgnU9f0VySp"
      },
      "source": [
        "###Checking the correlation between the inflation rate of a country and:\r\n",
        "\r\n",
        "*1. Female Entrepreneurial Index*\\\r\n",
        "*2. Female Labor Participation Rate*"
      ]
    },
    {
      "cell_type": "code",
      "metadata": {
        "colab": {
          "base_uri": "https://localhost:8080/",
          "height": 685
        },
        "id": "-LGzA6pj9VoX",
        "outputId": "eb1b54d3-9a6c-43eb-9a67-fdb0b616e6f5"
      },
      "source": [
        "figure5 = px.scatter(updated_df, x= 'Female EI', y= 'Inflation rate', trendline= 'ols', title='Relationship between Inflation Rate and Female Entrepreneurial Index', width= 800, height= 600)\n",
        "figure5.show()\n"
      ],
      "execution_count": null,
      "outputs": [
        {
          "output_type": "stream",
          "text": [
            "/usr/local/lib/python3.6/dist-packages/statsmodels/tools/_testing.py:19: FutureWarning:\n",
            "\n",
            "pandas.util.testing is deprecated. Use the functions in the public API at pandas.testing instead.\n",
            "\n"
          ],
          "name": "stderr"
        },
        {
          "output_type": "display_data",
          "data": {
            "text/html": [
              "<html>\n",
              "<head><meta charset=\"utf-8\" /></head>\n",
              "<body>\n",
              "    <div>\n",
              "            <script src=\"https://cdnjs.cloudflare.com/ajax/libs/mathjax/2.7.5/MathJax.js?config=TeX-AMS-MML_SVG\"></script><script type=\"text/javascript\">if (window.MathJax) {MathJax.Hub.Config({SVG: {font: \"STIX-Web\"}});}</script>\n",
              "                <script type=\"text/javascript\">window.PlotlyConfig = {MathJaxConfig: 'local'};</script>\n",
              "        <script src=\"https://cdn.plot.ly/plotly-latest.min.js\"></script>    \n",
              "            <div id=\"d3269fe2-3a69-4d65-957f-d01390181ddf\" class=\"plotly-graph-div\" style=\"height:600px; width:800px;\"></div>\n",
              "            <script type=\"text/javascript\">\n",
              "                \n",
              "                    window.PLOTLYENV=window.PLOTLYENV || {};\n",
              "                    \n",
              "                if (document.getElementById(\"d3269fe2-3a69-4d65-957f-d01390181ddf\")) {\n",
              "                    Plotly.newPlot(\n",
              "                        'd3269fe2-3a69-4d65-957f-d01390181ddf',\n",
              "                        [{\"hoverlabel\": {\"namelength\": 0}, \"hovertemplate\": \"Female EI=%{x}<br>Inflation rate=%{y}\", \"legendgroup\": \"\", \"marker\": {\"color\": \"#636efa\", \"symbol\": \"circle\"}, \"mode\": \"markers\", \"name\": \"\", \"showlegend\": false, \"type\": \"scatter\", \"x\": [54.9, 63.6, 55.4, 66.4, 68.8, 63.6, 43.0, 64.3, 51.4, 56.6, 58.5, 69.3, 54.8, 55.9, 52.5, 49.9, 69.7, 53.7, 57.7, 66.7, 74.8, 68.0, 40.0, 66.3, 59.8, 63.7, 53.4, 27.4, 35.7, 29.7, 31.6, 31.1, 38.3, 36.1, 32.3, 27.7, 29.9, 25.8, 25.3, 38.6, 41.2, 39.2, 42.8, 36.9, 43.6, 35.6, 37.0, 36.6, 30.7, 39.3, 44.5], \"xaxis\": \"x\", \"y\": [0.9, 0.6, -0.88, -0.2, 0.0, 0.5, -1.7, -0.3, 0.0, 0.2, -0.9, 0.6, -0.3, -0.5, -0.5, -0.5, 0.5, -0.1, -0.9, 0.0, 1.5, 1.6, 0.8, 2.17, -0.5, -1.1, -0.61, 4.8, 26.5, 4.1, -1.0, 10.67, 1.4, 0.8, -0.5, 11.0, -2.25, 17.2, 5.9, 3.7, 3.7, 2.3, 2.7, 0.1, 3.5, 15.5, 1.2, -0.9, 4.8, 7.7, 8.67], \"yaxis\": \"y\"}, {\"hoverlabel\": {\"namelength\": 0}, \"hovertemplate\": \"<b>OLS trendline</b><br>Inflation rate = -0.171781 * Female EI + 10.804847<br>R<sup>2</sup>=0.207510<br><br>Female EI=%{x}<br>Inflation rate=%{y} <b>(trend)</b>\", \"legendgroup\": \"\", \"marker\": {\"color\": \"#636efa\", \"symbol\": \"circle\"}, \"mode\": \"lines\", \"name\": \"\", \"showlegend\": false, \"type\": \"scatter\", \"x\": [25.3, 25.8, 27.4, 27.7, 29.7, 29.9, 30.7, 31.1, 31.6, 32.3, 35.6, 35.7, 36.1, 36.6, 36.9, 37.0, 38.3, 38.6, 39.2, 39.3, 40.0, 41.2, 42.8, 43.0, 43.6, 44.5, 49.9, 51.4, 52.5, 53.4, 53.7, 54.8, 54.9, 55.4, 55.9, 56.6, 57.7, 58.5, 59.8, 63.6, 63.6, 63.7, 64.3, 66.3, 66.4, 66.7, 68.0, 68.8, 69.3, 69.7, 74.8], \"xaxis\": \"x\", \"y\": [6.458784890705691, 6.372894335834904, 6.098044560248388, 6.046510227325916, 5.702948007842768, 5.668591785894454, 5.531166898101195, 5.462454454204566, 5.376563899333779, 5.2563171225146785, 4.689439460367485, 4.672261349393327, 4.603548905496698, 4.517658350625911, 4.46612401770344, 4.448945906729283, 4.225630464065238, 4.174096131142765, 4.071027465297821, 4.053849354323664, 3.933602577504562, 3.727465245814674, 3.4526154702281575, 3.418259248279842, 3.315190582434898, 3.160587583667482, 2.232969591062986, 1.9752979264506259, 1.7863387057348952, 1.6317357069674792, 1.5802013740450054, 1.3912421533292765, 1.3740640423551191, 1.2881734874843325, 1.2022829326135458, 1.0820361557944427, 0.893076935078712, 0.7556520472854533, 0.532336604621408, -0.12043161239657074, -0.12043161239657074, -0.13760972337072808, -0.24067838921567208, -0.5842406086988188, -0.6014187196729779, -0.6529530525954481, -0.8762684952594935, -1.0136933830527521, -1.0995839379235388, -1.16829638182017, -2.044380041502192], \"yaxis\": \"y\"}],\n",
              "                        {\"height\": 600, \"legend\": {\"tracegroupgap\": 0}, \"template\": {\"data\": {\"bar\": [{\"error_x\": {\"color\": \"#2a3f5f\"}, \"error_y\": {\"color\": \"#2a3f5f\"}, \"marker\": {\"line\": {\"color\": \"#E5ECF6\", \"width\": 0.5}}, \"type\": \"bar\"}], \"barpolar\": [{\"marker\": {\"line\": {\"color\": \"#E5ECF6\", \"width\": 0.5}}, \"type\": \"barpolar\"}], \"carpet\": [{\"aaxis\": {\"endlinecolor\": \"#2a3f5f\", \"gridcolor\": \"white\", \"linecolor\": \"white\", \"minorgridcolor\": \"white\", \"startlinecolor\": \"#2a3f5f\"}, \"baxis\": {\"endlinecolor\": \"#2a3f5f\", \"gridcolor\": \"white\", \"linecolor\": \"white\", \"minorgridcolor\": \"white\", \"startlinecolor\": \"#2a3f5f\"}, \"type\": \"carpet\"}], \"choropleth\": [{\"colorbar\": {\"outlinewidth\": 0, \"ticks\": \"\"}, \"type\": \"choropleth\"}], \"contour\": [{\"colorbar\": {\"outlinewidth\": 0, \"ticks\": \"\"}, \"colorscale\": [[0.0, \"#0d0887\"], [0.1111111111111111, \"#46039f\"], [0.2222222222222222, \"#7201a8\"], [0.3333333333333333, \"#9c179e\"], [0.4444444444444444, \"#bd3786\"], [0.5555555555555556, \"#d8576b\"], [0.6666666666666666, \"#ed7953\"], [0.7777777777777778, \"#fb9f3a\"], [0.8888888888888888, \"#fdca26\"], [1.0, \"#f0f921\"]], \"type\": \"contour\"}], \"contourcarpet\": [{\"colorbar\": {\"outlinewidth\": 0, \"ticks\": \"\"}, \"type\": \"contourcarpet\"}], \"heatmap\": [{\"colorbar\": {\"outlinewidth\": 0, \"ticks\": \"\"}, \"colorscale\": [[0.0, \"#0d0887\"], [0.1111111111111111, \"#46039f\"], [0.2222222222222222, \"#7201a8\"], [0.3333333333333333, \"#9c179e\"], [0.4444444444444444, \"#bd3786\"], [0.5555555555555556, \"#d8576b\"], [0.6666666666666666, \"#ed7953\"], [0.7777777777777778, \"#fb9f3a\"], [0.8888888888888888, \"#fdca26\"], [1.0, \"#f0f921\"]], \"type\": \"heatmap\"}], \"heatmapgl\": [{\"colorbar\": {\"outlinewidth\": 0, \"ticks\": \"\"}, \"colorscale\": [[0.0, \"#0d0887\"], [0.1111111111111111, \"#46039f\"], [0.2222222222222222, \"#7201a8\"], [0.3333333333333333, \"#9c179e\"], [0.4444444444444444, \"#bd3786\"], [0.5555555555555556, \"#d8576b\"], [0.6666666666666666, \"#ed7953\"], [0.7777777777777778, \"#fb9f3a\"], [0.8888888888888888, \"#fdca26\"], [1.0, \"#f0f921\"]], \"type\": \"heatmapgl\"}], \"histogram\": [{\"marker\": {\"colorbar\": {\"outlinewidth\": 0, \"ticks\": \"\"}}, \"type\": \"histogram\"}], \"histogram2d\": [{\"colorbar\": {\"outlinewidth\": 0, \"ticks\": \"\"}, \"colorscale\": [[0.0, \"#0d0887\"], [0.1111111111111111, \"#46039f\"], [0.2222222222222222, \"#7201a8\"], [0.3333333333333333, \"#9c179e\"], [0.4444444444444444, \"#bd3786\"], [0.5555555555555556, \"#d8576b\"], [0.6666666666666666, \"#ed7953\"], [0.7777777777777778, \"#fb9f3a\"], [0.8888888888888888, \"#fdca26\"], [1.0, \"#f0f921\"]], \"type\": \"histogram2d\"}], \"histogram2dcontour\": [{\"colorbar\": {\"outlinewidth\": 0, \"ticks\": \"\"}, \"colorscale\": [[0.0, \"#0d0887\"], [0.1111111111111111, \"#46039f\"], [0.2222222222222222, \"#7201a8\"], [0.3333333333333333, \"#9c179e\"], [0.4444444444444444, \"#bd3786\"], [0.5555555555555556, \"#d8576b\"], [0.6666666666666666, \"#ed7953\"], [0.7777777777777778, \"#fb9f3a\"], [0.8888888888888888, \"#fdca26\"], [1.0, \"#f0f921\"]], \"type\": \"histogram2dcontour\"}], \"mesh3d\": [{\"colorbar\": {\"outlinewidth\": 0, \"ticks\": \"\"}, \"type\": \"mesh3d\"}], \"parcoords\": [{\"line\": {\"colorbar\": {\"outlinewidth\": 0, \"ticks\": \"\"}}, \"type\": \"parcoords\"}], \"pie\": [{\"automargin\": true, \"type\": \"pie\"}], \"scatter\": [{\"marker\": {\"colorbar\": {\"outlinewidth\": 0, \"ticks\": \"\"}}, \"type\": \"scatter\"}], \"scatter3d\": [{\"line\": {\"colorbar\": {\"outlinewidth\": 0, \"ticks\": \"\"}}, \"marker\": {\"colorbar\": {\"outlinewidth\": 0, \"ticks\": \"\"}}, \"type\": \"scatter3d\"}], \"scattercarpet\": [{\"marker\": {\"colorbar\": {\"outlinewidth\": 0, \"ticks\": \"\"}}, \"type\": \"scattercarpet\"}], \"scattergeo\": [{\"marker\": {\"colorbar\": {\"outlinewidth\": 0, \"ticks\": \"\"}}, \"type\": \"scattergeo\"}], \"scattergl\": [{\"marker\": {\"colorbar\": {\"outlinewidth\": 0, \"ticks\": \"\"}}, \"type\": \"scattergl\"}], \"scattermapbox\": [{\"marker\": {\"colorbar\": {\"outlinewidth\": 0, \"ticks\": \"\"}}, \"type\": \"scattermapbox\"}], \"scatterpolar\": [{\"marker\": {\"colorbar\": {\"outlinewidth\": 0, \"ticks\": \"\"}}, \"type\": \"scatterpolar\"}], \"scatterpolargl\": [{\"marker\": {\"colorbar\": {\"outlinewidth\": 0, \"ticks\": \"\"}}, \"type\": \"scatterpolargl\"}], \"scatterternary\": [{\"marker\": {\"colorbar\": {\"outlinewidth\": 0, \"ticks\": \"\"}}, \"type\": \"scatterternary\"}], \"surface\": [{\"colorbar\": {\"outlinewidth\": 0, \"ticks\": \"\"}, \"colorscale\": [[0.0, \"#0d0887\"], [0.1111111111111111, \"#46039f\"], [0.2222222222222222, \"#7201a8\"], [0.3333333333333333, \"#9c179e\"], [0.4444444444444444, \"#bd3786\"], [0.5555555555555556, \"#d8576b\"], [0.6666666666666666, \"#ed7953\"], [0.7777777777777778, \"#fb9f3a\"], [0.8888888888888888, \"#fdca26\"], [1.0, \"#f0f921\"]], \"type\": \"surface\"}], \"table\": [{\"cells\": {\"fill\": {\"color\": \"#EBF0F8\"}, \"line\": {\"color\": \"white\"}}, \"header\": {\"fill\": {\"color\": \"#C8D4E3\"}, \"line\": {\"color\": \"white\"}}, \"type\": \"table\"}]}, \"layout\": {\"annotationdefaults\": {\"arrowcolor\": \"#2a3f5f\", \"arrowhead\": 0, \"arrowwidth\": 1}, \"coloraxis\": {\"colorbar\": {\"outlinewidth\": 0, \"ticks\": \"\"}}, \"colorscale\": {\"diverging\": [[0, \"#8e0152\"], [0.1, \"#c51b7d\"], [0.2, \"#de77ae\"], [0.3, \"#f1b6da\"], [0.4, \"#fde0ef\"], [0.5, \"#f7f7f7\"], [0.6, \"#e6f5d0\"], [0.7, \"#b8e186\"], [0.8, \"#7fbc41\"], [0.9, \"#4d9221\"], [1, \"#276419\"]], \"sequential\": [[0.0, \"#0d0887\"], [0.1111111111111111, \"#46039f\"], [0.2222222222222222, \"#7201a8\"], [0.3333333333333333, \"#9c179e\"], [0.4444444444444444, \"#bd3786\"], [0.5555555555555556, \"#d8576b\"], [0.6666666666666666, \"#ed7953\"], [0.7777777777777778, \"#fb9f3a\"], [0.8888888888888888, \"#fdca26\"], [1.0, \"#f0f921\"]], \"sequentialminus\": [[0.0, \"#0d0887\"], [0.1111111111111111, \"#46039f\"], [0.2222222222222222, \"#7201a8\"], [0.3333333333333333, \"#9c179e\"], [0.4444444444444444, \"#bd3786\"], [0.5555555555555556, \"#d8576b\"], [0.6666666666666666, \"#ed7953\"], [0.7777777777777778, \"#fb9f3a\"], [0.8888888888888888, \"#fdca26\"], [1.0, \"#f0f921\"]]}, \"colorway\": [\"#636efa\", \"#EF553B\", \"#00cc96\", \"#ab63fa\", \"#FFA15A\", \"#19d3f3\", \"#FF6692\", \"#B6E880\", \"#FF97FF\", \"#FECB52\"], \"font\": {\"color\": \"#2a3f5f\"}, \"geo\": {\"bgcolor\": \"white\", \"lakecolor\": \"white\", \"landcolor\": \"#E5ECF6\", \"showlakes\": true, \"showland\": true, \"subunitcolor\": \"white\"}, \"hoverlabel\": {\"align\": \"left\"}, \"hovermode\": \"closest\", \"mapbox\": {\"style\": \"light\"}, \"paper_bgcolor\": \"white\", \"plot_bgcolor\": \"#E5ECF6\", \"polar\": {\"angularaxis\": {\"gridcolor\": \"white\", \"linecolor\": \"white\", \"ticks\": \"\"}, \"bgcolor\": \"#E5ECF6\", \"radialaxis\": {\"gridcolor\": \"white\", \"linecolor\": \"white\", \"ticks\": \"\"}}, \"scene\": {\"xaxis\": {\"backgroundcolor\": \"#E5ECF6\", \"gridcolor\": \"white\", \"gridwidth\": 2, \"linecolor\": \"white\", \"showbackground\": true, \"ticks\": \"\", \"zerolinecolor\": \"white\"}, \"yaxis\": {\"backgroundcolor\": \"#E5ECF6\", \"gridcolor\": \"white\", \"gridwidth\": 2, \"linecolor\": \"white\", \"showbackground\": true, \"ticks\": \"\", \"zerolinecolor\": \"white\"}, \"zaxis\": {\"backgroundcolor\": \"#E5ECF6\", \"gridcolor\": \"white\", \"gridwidth\": 2, \"linecolor\": \"white\", \"showbackground\": true, \"ticks\": \"\", \"zerolinecolor\": \"white\"}}, \"shapedefaults\": {\"line\": {\"color\": \"#2a3f5f\"}}, \"ternary\": {\"aaxis\": {\"gridcolor\": \"white\", \"linecolor\": \"white\", \"ticks\": \"\"}, \"baxis\": {\"gridcolor\": \"white\", \"linecolor\": \"white\", \"ticks\": \"\"}, \"bgcolor\": \"#E5ECF6\", \"caxis\": {\"gridcolor\": \"white\", \"linecolor\": \"white\", \"ticks\": \"\"}}, \"title\": {\"x\": 0.05}, \"xaxis\": {\"automargin\": true, \"gridcolor\": \"white\", \"linecolor\": \"white\", \"ticks\": \"\", \"title\": {\"standoff\": 15}, \"zerolinecolor\": \"white\", \"zerolinewidth\": 2}, \"yaxis\": {\"automargin\": true, \"gridcolor\": \"white\", \"linecolor\": \"white\", \"ticks\": \"\", \"title\": {\"standoff\": 15}, \"zerolinecolor\": \"white\", \"zerolinewidth\": 2}}}, \"title\": {\"text\": \"Relationship between Inflation Rate and Female Entrepreneurial Index\"}, \"width\": 800, \"xaxis\": {\"anchor\": \"y\", \"domain\": [0.0, 1.0], \"title\": {\"text\": \"Female EI\"}}, \"yaxis\": {\"anchor\": \"x\", \"domain\": [0.0, 1.0], \"title\": {\"text\": \"Inflation rate\"}}},\n",
              "                        {\"responsive\": true}\n",
              "                    ).then(function(){\n",
              "                            \n",
              "var gd = document.getElementById('d3269fe2-3a69-4d65-957f-d01390181ddf');\n",
              "var x = new MutationObserver(function (mutations, observer) {{\n",
              "        var display = window.getComputedStyle(gd).display;\n",
              "        if (!display || display === 'none') {{\n",
              "            console.log([gd, 'removed!']);\n",
              "            Plotly.purge(gd);\n",
              "            observer.disconnect();\n",
              "        }}\n",
              "}});\n",
              "\n",
              "// Listen for the removal of the full notebook cells\n",
              "var notebookContainer = gd.closest('#notebook-container');\n",
              "if (notebookContainer) {{\n",
              "    x.observe(notebookContainer, {childList: true});\n",
              "}}\n",
              "\n",
              "// Listen for the clearing of the current output cell\n",
              "var outputEl = gd.closest('.output');\n",
              "if (outputEl) {{\n",
              "    x.observe(outputEl, {childList: true});\n",
              "}}\n",
              "\n",
              "                        })\n",
              "                };\n",
              "                \n",
              "            </script>\n",
              "        </div>\n",
              "</body>\n",
              "</html>"
            ]
          },
          "metadata": {
            "tags": []
          }
        }
      ]
    },
    {
      "cell_type": "code",
      "metadata": {
        "colab": {
          "base_uri": "https://localhost:8080/"
        },
        "id": "yw8clDv962Xh",
        "outputId": "3689b595-f644-4d16-b910-9a9a76bec295"
      },
      "source": [
        "# Correlation between inflation and Female labor rate \n",
        "\n",
        "updated_df['Female EI'].corr(updated_df['Inflation rate'])"
      ],
      "execution_count": null,
      "outputs": [
        {
          "output_type": "execute_result",
          "data": {
            "text/plain": [
              "-0.45553237798193397"
            ]
          },
          "metadata": {
            "tags": []
          },
          "execution_count": 30
        }
      ]
    },
    {
      "cell_type": "code",
      "metadata": {
        "colab": {
          "base_uri": "https://localhost:8080/",
          "height": 617
        },
        "id": "xfVeZ9nSpnBq",
        "outputId": "7406f82d-c367-4538-85d5-c23aa970241e"
      },
      "source": [
        "figure6 = px.scatter(updated_df, x= 'Female labor rate', y='Inflation rate', trendline='ols', title= 'Relationship between Inflation Rate and Female Labor rate', width=800, height=600)\r\n",
        "figure6.show()"
      ],
      "execution_count": null,
      "outputs": [
        {
          "output_type": "display_data",
          "data": {
            "text/html": [
              "<html>\n",
              "<head><meta charset=\"utf-8\" /></head>\n",
              "<body>\n",
              "    <div>\n",
              "            <script src=\"https://cdnjs.cloudflare.com/ajax/libs/mathjax/2.7.5/MathJax.js?config=TeX-AMS-MML_SVG\"></script><script type=\"text/javascript\">if (window.MathJax) {MathJax.Hub.Config({SVG: {font: \"STIX-Web\"}});}</script>\n",
              "                <script type=\"text/javascript\">window.PlotlyConfig = {MathJaxConfig: 'local'};</script>\n",
              "        <script src=\"https://cdn.plot.ly/plotly-latest.min.js\"></script>    \n",
              "            <div id=\"9e5a23e4-2c63-4837-9cb4-51ee53e56e7e\" class=\"plotly-graph-div\" style=\"height:600px; width:800px;\"></div>\n",
              "            <script type=\"text/javascript\">\n",
              "                \n",
              "                    window.PLOTLYENV=window.PLOTLYENV || {};\n",
              "                    \n",
              "                if (document.getElementById(\"9e5a23e4-2c63-4837-9cb4-51ee53e56e7e\")) {\n",
              "                    Plotly.newPlot(\n",
              "                        '9e5a23e4-2c63-4837-9cb4-51ee53e56e7e',\n",
              "                        [{\"hoverlabel\": {\"namelength\": 0}, \"hovertemplate\": \"Female labor rate=%{x}<br>Inflation rate=%{y}\", \"legendgroup\": \"\", \"marker\": {\"color\": \"#636efa\", \"symbol\": \"circle\"}, \"mode\": \"markers\", \"name\": \"\", \"showlegend\": false, \"type\": \"scatter\", \"x\": [67.1, 58.0, 68.5, 67.7, 60.6, 69.9, 42.5, 59.4, 47.2, 66.4, 66.5, 69.2, 55.9, 61.0, 52.7, 60.4, 70.3, 57.8, 56.6, 74.0, 66.8, 82.3, 64.7, 69.2, 59.18, 74.7, 55.0, 18.0, 47.3, 69.4, 51.9, 55.9, 62.4, 59.4, 63.5, 64.6, 55.7, 60.8, 61.1, 37.7, 73.0, 58.5, 44.7, 67.9, 63.4, 65.2, 13.0, 62.0, 25.19, 30.4, 68.0], \"xaxis\": \"x\", \"y\": [0.9, 0.6, -0.88, -0.2, 0.0, 0.5, -1.7, -0.3, 0.0, 0.2, -0.9, 0.6, -0.3, -0.5, -0.5, -0.5, 0.5, -0.1, -0.9, 0.0, 1.5, 1.6, 0.8, 2.17, -0.5, -1.1, -0.61, 4.8, 26.5, 4.1, -1.0, 10.67, 1.4, 0.8, -0.5, 11.0, -2.25, 17.2, 5.9, 3.7, 3.7, 2.3, 2.7, 0.1, 3.5, 15.5, 1.2, -0.9, 4.8, 7.7, 8.67], \"yaxis\": \"y\"}, {\"hoverlabel\": {\"namelength\": 0}, \"hovertemplate\": \"<b>OLS trendline</b><br>Inflation rate = -0.054255 * Female labor rate + 5.760592<br>R<sup>2</sup>=0.019545<br><br>Female labor rate=%{x}<br>Inflation rate=%{y} <b>(trend)</b>\", \"legendgroup\": \"\", \"marker\": {\"color\": \"#636efa\", \"symbol\": \"circle\"}, \"mode\": \"lines\", \"name\": \"\", \"showlegend\": false, \"type\": \"scatter\", \"x\": [13.0, 18.0, 25.19, 30.4, 37.7, 42.5, 44.7, 47.2, 47.3, 51.9, 52.7, 55.0, 55.7, 55.9, 55.9, 56.6, 57.8, 58.0, 58.5, 59.18, 59.4, 59.4, 60.4, 60.6, 60.8, 61.0, 61.1, 62.0, 62.4, 63.4, 63.5, 64.6, 64.7, 65.2, 66.4, 66.5, 66.8, 67.1, 67.7, 67.9, 68.0, 68.5, 69.2, 69.2, 69.4, 69.9, 70.3, 73.0, 74.0, 74.7, 82.3], \"xaxis\": \"x\", \"y\": [5.05527336089301, 4.783996914384511, 4.393901384305291, 4.111231327043436, 3.7151677151410283, 3.45474232649287, 3.3353806900291305, 3.1997424667748815, 3.194316937844712, 2.9447426070568934, 2.9013383756155333, 2.7765512102216245, 2.7385725077104346, 2.727721449850095, 2.727721449850095, 2.689742747338905, 2.6246364001768656, 2.6137853423165254, 2.5866576976656757, 2.5497641009405196, 2.537827937294146, 2.537827937294146, 2.4835726479924465, 2.4727215901321062, 2.4618705322717664, 2.4510194744114266, 2.4455939454812565, 2.3967641851097268, 2.375062069389047, 2.3208067800873473, 2.315381251157177, 2.255700432925308, 2.2502749039951375, 2.223147259344288, 2.158040912182248, 2.1526153832520785, 2.1363387964615685, 2.1200622096710586, 2.087509036090039, 2.0766579782296986, 2.071232449299529, 2.044104804648679, 2.006126102137489, 2.006126102137489, 1.995275044277149, 1.9681473996262993, 1.9464452839056197, 1.7999560027910304, 1.745700713489331, 1.7077220109781406, 1.2953818122852239], \"yaxis\": \"y\"}],\n",
              "                        {\"height\": 600, \"legend\": {\"tracegroupgap\": 0}, \"template\": {\"data\": {\"bar\": [{\"error_x\": {\"color\": \"#2a3f5f\"}, \"error_y\": {\"color\": \"#2a3f5f\"}, \"marker\": {\"line\": {\"color\": \"#E5ECF6\", \"width\": 0.5}}, \"type\": \"bar\"}], \"barpolar\": [{\"marker\": {\"line\": {\"color\": \"#E5ECF6\", \"width\": 0.5}}, \"type\": \"barpolar\"}], \"carpet\": [{\"aaxis\": {\"endlinecolor\": \"#2a3f5f\", \"gridcolor\": \"white\", \"linecolor\": \"white\", \"minorgridcolor\": \"white\", \"startlinecolor\": \"#2a3f5f\"}, \"baxis\": {\"endlinecolor\": \"#2a3f5f\", \"gridcolor\": \"white\", \"linecolor\": \"white\", \"minorgridcolor\": \"white\", \"startlinecolor\": \"#2a3f5f\"}, \"type\": \"carpet\"}], \"choropleth\": [{\"colorbar\": {\"outlinewidth\": 0, \"ticks\": \"\"}, \"type\": \"choropleth\"}], \"contour\": [{\"colorbar\": {\"outlinewidth\": 0, \"ticks\": \"\"}, \"colorscale\": [[0.0, \"#0d0887\"], [0.1111111111111111, \"#46039f\"], [0.2222222222222222, \"#7201a8\"], [0.3333333333333333, \"#9c179e\"], [0.4444444444444444, \"#bd3786\"], [0.5555555555555556, \"#d8576b\"], [0.6666666666666666, \"#ed7953\"], [0.7777777777777778, \"#fb9f3a\"], [0.8888888888888888, \"#fdca26\"], [1.0, \"#f0f921\"]], \"type\": \"contour\"}], \"contourcarpet\": [{\"colorbar\": {\"outlinewidth\": 0, \"ticks\": \"\"}, \"type\": \"contourcarpet\"}], \"heatmap\": [{\"colorbar\": {\"outlinewidth\": 0, \"ticks\": \"\"}, \"colorscale\": [[0.0, \"#0d0887\"], [0.1111111111111111, \"#46039f\"], [0.2222222222222222, \"#7201a8\"], [0.3333333333333333, \"#9c179e\"], [0.4444444444444444, \"#bd3786\"], [0.5555555555555556, \"#d8576b\"], [0.6666666666666666, \"#ed7953\"], [0.7777777777777778, \"#fb9f3a\"], [0.8888888888888888, \"#fdca26\"], [1.0, \"#f0f921\"]], \"type\": \"heatmap\"}], \"heatmapgl\": [{\"colorbar\": {\"outlinewidth\": 0, \"ticks\": \"\"}, \"colorscale\": [[0.0, \"#0d0887\"], [0.1111111111111111, \"#46039f\"], [0.2222222222222222, \"#7201a8\"], [0.3333333333333333, \"#9c179e\"], [0.4444444444444444, \"#bd3786\"], [0.5555555555555556, \"#d8576b\"], [0.6666666666666666, \"#ed7953\"], [0.7777777777777778, \"#fb9f3a\"], [0.8888888888888888, \"#fdca26\"], [1.0, \"#f0f921\"]], \"type\": \"heatmapgl\"}], \"histogram\": [{\"marker\": {\"colorbar\": {\"outlinewidth\": 0, \"ticks\": \"\"}}, \"type\": \"histogram\"}], \"histogram2d\": [{\"colorbar\": {\"outlinewidth\": 0, \"ticks\": \"\"}, \"colorscale\": [[0.0, \"#0d0887\"], [0.1111111111111111, \"#46039f\"], [0.2222222222222222, \"#7201a8\"], [0.3333333333333333, \"#9c179e\"], [0.4444444444444444, \"#bd3786\"], [0.5555555555555556, \"#d8576b\"], [0.6666666666666666, \"#ed7953\"], [0.7777777777777778, \"#fb9f3a\"], [0.8888888888888888, \"#fdca26\"], [1.0, \"#f0f921\"]], \"type\": \"histogram2d\"}], \"histogram2dcontour\": [{\"colorbar\": {\"outlinewidth\": 0, \"ticks\": \"\"}, \"colorscale\": [[0.0, \"#0d0887\"], [0.1111111111111111, \"#46039f\"], [0.2222222222222222, \"#7201a8\"], [0.3333333333333333, \"#9c179e\"], [0.4444444444444444, \"#bd3786\"], [0.5555555555555556, \"#d8576b\"], [0.6666666666666666, \"#ed7953\"], [0.7777777777777778, \"#fb9f3a\"], [0.8888888888888888, \"#fdca26\"], [1.0, \"#f0f921\"]], \"type\": \"histogram2dcontour\"}], \"mesh3d\": [{\"colorbar\": {\"outlinewidth\": 0, \"ticks\": \"\"}, \"type\": \"mesh3d\"}], \"parcoords\": [{\"line\": {\"colorbar\": {\"outlinewidth\": 0, \"ticks\": \"\"}}, \"type\": \"parcoords\"}], \"pie\": [{\"automargin\": true, \"type\": \"pie\"}], \"scatter\": [{\"marker\": {\"colorbar\": {\"outlinewidth\": 0, \"ticks\": \"\"}}, \"type\": \"scatter\"}], \"scatter3d\": [{\"line\": {\"colorbar\": {\"outlinewidth\": 0, \"ticks\": \"\"}}, \"marker\": {\"colorbar\": {\"outlinewidth\": 0, \"ticks\": \"\"}}, \"type\": \"scatter3d\"}], \"scattercarpet\": [{\"marker\": {\"colorbar\": {\"outlinewidth\": 0, \"ticks\": \"\"}}, \"type\": \"scattercarpet\"}], \"scattergeo\": [{\"marker\": {\"colorbar\": {\"outlinewidth\": 0, \"ticks\": \"\"}}, \"type\": \"scattergeo\"}], \"scattergl\": [{\"marker\": {\"colorbar\": {\"outlinewidth\": 0, \"ticks\": \"\"}}, \"type\": \"scattergl\"}], \"scattermapbox\": [{\"marker\": {\"colorbar\": {\"outlinewidth\": 0, \"ticks\": \"\"}}, \"type\": \"scattermapbox\"}], \"scatterpolar\": [{\"marker\": {\"colorbar\": {\"outlinewidth\": 0, \"ticks\": \"\"}}, \"type\": \"scatterpolar\"}], \"scatterpolargl\": [{\"marker\": {\"colorbar\": {\"outlinewidth\": 0, \"ticks\": \"\"}}, \"type\": \"scatterpolargl\"}], \"scatterternary\": [{\"marker\": {\"colorbar\": {\"outlinewidth\": 0, \"ticks\": \"\"}}, \"type\": \"scatterternary\"}], \"surface\": [{\"colorbar\": {\"outlinewidth\": 0, \"ticks\": \"\"}, \"colorscale\": [[0.0, \"#0d0887\"], [0.1111111111111111, \"#46039f\"], [0.2222222222222222, \"#7201a8\"], [0.3333333333333333, \"#9c179e\"], [0.4444444444444444, \"#bd3786\"], [0.5555555555555556, \"#d8576b\"], [0.6666666666666666, \"#ed7953\"], [0.7777777777777778, \"#fb9f3a\"], [0.8888888888888888, \"#fdca26\"], [1.0, \"#f0f921\"]], \"type\": \"surface\"}], \"table\": [{\"cells\": {\"fill\": {\"color\": \"#EBF0F8\"}, \"line\": {\"color\": \"white\"}}, \"header\": {\"fill\": {\"color\": \"#C8D4E3\"}, \"line\": {\"color\": \"white\"}}, \"type\": \"table\"}]}, \"layout\": {\"annotationdefaults\": {\"arrowcolor\": \"#2a3f5f\", \"arrowhead\": 0, \"arrowwidth\": 1}, \"coloraxis\": {\"colorbar\": {\"outlinewidth\": 0, \"ticks\": \"\"}}, \"colorscale\": {\"diverging\": [[0, \"#8e0152\"], [0.1, \"#c51b7d\"], [0.2, \"#de77ae\"], [0.3, \"#f1b6da\"], [0.4, \"#fde0ef\"], [0.5, \"#f7f7f7\"], [0.6, \"#e6f5d0\"], [0.7, \"#b8e186\"], [0.8, \"#7fbc41\"], [0.9, \"#4d9221\"], [1, \"#276419\"]], \"sequential\": [[0.0, \"#0d0887\"], [0.1111111111111111, \"#46039f\"], [0.2222222222222222, \"#7201a8\"], [0.3333333333333333, \"#9c179e\"], [0.4444444444444444, \"#bd3786\"], [0.5555555555555556, \"#d8576b\"], [0.6666666666666666, \"#ed7953\"], [0.7777777777777778, \"#fb9f3a\"], [0.8888888888888888, \"#fdca26\"], [1.0, \"#f0f921\"]], \"sequentialminus\": [[0.0, \"#0d0887\"], [0.1111111111111111, \"#46039f\"], [0.2222222222222222, \"#7201a8\"], [0.3333333333333333, \"#9c179e\"], [0.4444444444444444, \"#bd3786\"], [0.5555555555555556, \"#d8576b\"], [0.6666666666666666, \"#ed7953\"], [0.7777777777777778, \"#fb9f3a\"], [0.8888888888888888, \"#fdca26\"], [1.0, \"#f0f921\"]]}, \"colorway\": [\"#636efa\", \"#EF553B\", \"#00cc96\", \"#ab63fa\", \"#FFA15A\", \"#19d3f3\", \"#FF6692\", \"#B6E880\", \"#FF97FF\", \"#FECB52\"], \"font\": {\"color\": \"#2a3f5f\"}, \"geo\": {\"bgcolor\": \"white\", \"lakecolor\": \"white\", \"landcolor\": \"#E5ECF6\", \"showlakes\": true, \"showland\": true, \"subunitcolor\": \"white\"}, \"hoverlabel\": {\"align\": \"left\"}, \"hovermode\": \"closest\", \"mapbox\": {\"style\": \"light\"}, \"paper_bgcolor\": \"white\", \"plot_bgcolor\": \"#E5ECF6\", \"polar\": {\"angularaxis\": {\"gridcolor\": \"white\", \"linecolor\": \"white\", \"ticks\": \"\"}, \"bgcolor\": \"#E5ECF6\", \"radialaxis\": {\"gridcolor\": \"white\", \"linecolor\": \"white\", \"ticks\": \"\"}}, \"scene\": {\"xaxis\": {\"backgroundcolor\": \"#E5ECF6\", \"gridcolor\": \"white\", \"gridwidth\": 2, \"linecolor\": \"white\", \"showbackground\": true, \"ticks\": \"\", \"zerolinecolor\": \"white\"}, \"yaxis\": {\"backgroundcolor\": \"#E5ECF6\", \"gridcolor\": \"white\", \"gridwidth\": 2, \"linecolor\": \"white\", \"showbackground\": true, \"ticks\": \"\", \"zerolinecolor\": \"white\"}, \"zaxis\": {\"backgroundcolor\": \"#E5ECF6\", \"gridcolor\": \"white\", \"gridwidth\": 2, \"linecolor\": \"white\", \"showbackground\": true, \"ticks\": \"\", \"zerolinecolor\": \"white\"}}, \"shapedefaults\": {\"line\": {\"color\": \"#2a3f5f\"}}, \"ternary\": {\"aaxis\": {\"gridcolor\": \"white\", \"linecolor\": \"white\", \"ticks\": \"\"}, \"baxis\": {\"gridcolor\": \"white\", \"linecolor\": \"white\", \"ticks\": \"\"}, \"bgcolor\": \"#E5ECF6\", \"caxis\": {\"gridcolor\": \"white\", \"linecolor\": \"white\", \"ticks\": \"\"}}, \"title\": {\"x\": 0.05}, \"xaxis\": {\"automargin\": true, \"gridcolor\": \"white\", \"linecolor\": \"white\", \"ticks\": \"\", \"title\": {\"standoff\": 15}, \"zerolinecolor\": \"white\", \"zerolinewidth\": 2}, \"yaxis\": {\"automargin\": true, \"gridcolor\": \"white\", \"linecolor\": \"white\", \"ticks\": \"\", \"title\": {\"standoff\": 15}, \"zerolinecolor\": \"white\", \"zerolinewidth\": 2}}}, \"title\": {\"text\": \"Relationship between Inflation Rate and Female Labor rate\"}, \"width\": 800, \"xaxis\": {\"anchor\": \"y\", \"domain\": [0.0, 1.0], \"title\": {\"text\": \"Female labor rate\"}}, \"yaxis\": {\"anchor\": \"x\", \"domain\": [0.0, 1.0], \"title\": {\"text\": \"Inflation rate\"}}},\n",
              "                        {\"responsive\": true}\n",
              "                    ).then(function(){\n",
              "                            \n",
              "var gd = document.getElementById('9e5a23e4-2c63-4837-9cb4-51ee53e56e7e');\n",
              "var x = new MutationObserver(function (mutations, observer) {{\n",
              "        var display = window.getComputedStyle(gd).display;\n",
              "        if (!display || display === 'none') {{\n",
              "            console.log([gd, 'removed!']);\n",
              "            Plotly.purge(gd);\n",
              "            observer.disconnect();\n",
              "        }}\n",
              "}});\n",
              "\n",
              "// Listen for the removal of the full notebook cells\n",
              "var notebookContainer = gd.closest('#notebook-container');\n",
              "if (notebookContainer) {{\n",
              "    x.observe(notebookContainer, {childList: true});\n",
              "}}\n",
              "\n",
              "// Listen for the clearing of the current output cell\n",
              "var outputEl = gd.closest('.output');\n",
              "if (outputEl) {{\n",
              "    x.observe(outputEl, {childList: true});\n",
              "}}\n",
              "\n",
              "                        })\n",
              "                };\n",
              "                \n",
              "            </script>\n",
              "        </div>\n",
              "</body>\n",
              "</html>"
            ]
          },
          "metadata": {
            "tags": []
          }
        }
      ]
    },
    {
      "cell_type": "code",
      "metadata": {
        "colab": {
          "base_uri": "https://localhost:8080/"
        },
        "id": "IWaiYW3opmud",
        "outputId": "f7f2154d-2541-4cf1-9eb0-90cf3991d10b"
      },
      "source": [
        "updated_df['Female labor rate'].corr(updated_df['Inflation rate'])"
      ],
      "execution_count": null,
      "outputs": [
        {
          "output_type": "execute_result",
          "data": {
            "text/plain": [
              "-0.1398023707942315"
            ]
          },
          "metadata": {
            "tags": []
          },
          "execution_count": 32
        }
      ]
    },
    {
      "cell_type": "code",
      "metadata": {
        "colab": {
          "base_uri": "https://localhost:8080/"
        },
        "id": "pDkKBjuqzdGD",
        "outputId": "1650d117-4a8b-41fa-9860-066e620d788f"
      },
      "source": [
        "updated_df['Female labor rate'].corr(updated_df['Female EI'])"
      ],
      "execution_count": null,
      "outputs": [
        {
          "output_type": "execute_result",
          "data": {
            "text/plain": [
              "0.4413724223368962"
            ]
          },
          "metadata": {
            "tags": []
          },
          "execution_count": 33
        }
      ]
    },
    {
      "cell_type": "code",
      "metadata": {
        "colab": {
          "base_uri": "https://localhost:8080/",
          "height": 567
        },
        "id": "8gzS9V3HA09n",
        "outputId": "da159c84-a38e-4a5e-db2d-1668c9f76b21"
      },
      "source": [
        "plt.figure(figsize=(10,7))\r\n",
        "figure7 = sns.pairplot(updated_df, vars=['Female EI', 'EI', 'Female labor rate'])\r\n",
        "plt.subplots_adjust(top=0.9)\r\n",
        "plt.suptitle('Comparing Female EI, Total EI and, Female Labor rate')\r\n",
        "plt.show(figure7)\r\n"
      ],
      "execution_count": null,
      "outputs": [
        {
          "output_type": "display_data",
          "data": {
            "text/plain": [
              "<Figure size 720x504 with 0 Axes>"
            ]
          },
          "metadata": {
            "tags": []
          }
        },
        {
          "output_type": "display_data",
          "data": {
            "image/png": "[encoded data removed]",
            "text/plain": [
              "<Figure size 540x540 with 12 Axes>"
            ]
          },
          "metadata": {
            "tags": [],
            "needs_background": "light"
          }
        }
      ]
    },
    {
      "cell_type": "code",
      "metadata": {
        "id": "HqTFu-JIdvyE"
      },
      "source": [
        "updated_df.iloc[(updated_df['Inflation rate'] == 26.5).values]"
      ],
      "execution_count": null,
      "outputs": []
    },
    {
      "cell_type": "markdown",
      "metadata": {
        "id": "P6O4yDq8cXU1"
      },
      "source": [
        "From the calculations above, it shows that the relationship between inflation rate of a country and both female labor rate and female entrepreneurial index is inverse. \r\n",
        "\r\n",
        "For inflation rate and female entrepreneurial index the correlation is -0.455.\r\n",
        "For inflation rate and female labor participation rate it is -0.139. \r\n",
        "These numbers show that there is a less notable negative correlation between the variables.\\\r\n",
        "\\\r\n",
        "From the pairplot, it can be seen that countries with high Female labor participation rates have high Female entrepreneurial index.\\\r\n",
        "\\\r\n",
        "Although, as an outlying data point, Argentina, has the highest inflation rate, even though it's female labor rate and female entrepreneurial index is not too far from the mean. \\\r\n",
        "\\\r\n",
        "Here, it can be interpreted that a stronger participation of women in entreprenership does not affect a nation's inflation rate a lot.\r\n",
        "But for investors and women wanting to start a business, it can also mean that they will not be  impacted severely if a nation's inflation rate fluctuates. \r\n",
        "\r\n",
        "\r\n",
        "---\r\n",
        "\r\n",
        "\r\n",
        "\r\n"
      ]
    },
    {
      "cell_type": "markdown",
      "metadata": {
        "id": "Wv3pqCCC-sx4"
      },
      "source": [
        "### Checking whether or not even in countries with low perceived rate of failure, the female entrepreneurial index is low. "
      ]
    },
    {
      "cell_type": "code",
      "metadata": {
        "id": "clarZOw_7oAs"
      },
      "source": [
        "stats.pearsonr(updated_df['Fear of failure rate'], updated_df['Female EI'])"
      ],
      "execution_count": null,
      "outputs": []
    },
    {
      "cell_type": "code",
      "metadata": {
        "id": "VvFGQzNNRb7J"
      },
      "source": [
        "plt.figure(figsize=(10,7))\r\n",
        "figure8 = sns.scatterplot(x= 'Fear of failure rate', y= 'Female EI', hue='Level of dev', data= updated_df)\r\n",
        "plt.suptitle('Relationship between Fear of Failure and Female Entrepreneurial Index in Developed vs. Developing Countries')\r\n",
        "plt.subplots_adjust(top=0.9)\r\n",
        "plt.show(figure8)"
      ],
      "execution_count": null,
      "outputs": []
    },
    {
      "cell_type": "markdown",
      "metadata": {
        "id": "a8_zDg1AOui0"
      },
      "source": [
        "Contrary to the initial assumption, it looks as as though there is not a significant relationship between fear of failure and female entrepreneurial index. This means that for any stakeholders, their investements will not be affected by fear of failure rates of a country. \\\r\n",
        "\\\r\n",
        "In developed countries, even with higher perceived fear of failure rates, women are more likely participate in entrepreneurial activities. This may be the case because there is a higher rate of participation in developed contries so a bussiness will be subject to higher amounts of competition which then raises the fear of failure.\r\n",
        "\r\n",
        "Whereas, in developing countries, the market size may be smaller so the competition is not as high and fear of failure is lower for women owned businesses. Which may mean there is a bigger window of opportunity for aspiring women entreprenuers to close the gap in the market. \r\n",
        "\r\n",
        "\r\n",
        "\r\n",
        "---\r\n",
        "\r\n"
      ]
    },
    {
      "cell_type": "markdown",
      "metadata": {
        "id": "TmYZl8uG7pdW"
      },
      "source": [
        "### Checking whether participation in entrepreneurship is low for women even when there is a high TEA( Total early-stage Entrepreneurial Activity)"
      ]
    },
    {
      "cell_type": "code",
      "metadata": {
        "id": "1CHzwA6AUyOY"
      },
      "source": [
        "stats.pearsonr(updated_df['Female EI'], updated_df['TEA'])"
      ],
      "execution_count": null,
      "outputs": []
    },
    {
      "cell_type": "code",
      "metadata": {
        "id": "GfeGG6S-84_9"
      },
      "source": [
        "stats.pearsonr(updated_df['F/M TEA'], updated_df['TEA'])"
      ],
      "execution_count": null,
      "outputs": []
    },
    {
      "cell_type": "code",
      "metadata": {
        "id": "FjDC20MM9LHK"
      },
      "source": [
        "plt.figure(figsize=(10,7))\r\n",
        "figure9 = sns.scatterplot(x= 'TEA', y= 'Female EI', hue= 'Level of dev', data= updated_df)\r\n",
        "plt.suptitle('Total Early Stage Entreprenurial Activity and Female Entrepreneurial Index in Developed vs. Developing Countries')\r\n",
        "plt.show(figure9)"
      ],
      "execution_count": null,
      "outputs": []
    },
    {
      "cell_type": "markdown",
      "metadata": {
        "id": "B-ucWl9TWFKu"
      },
      "source": [
        "The correlation between female entrepreneurial index and total early stage activity is -0.461, which suggests a not so strong negative correlation between the two variables. And the p-value is small enough to be statistically significant. \\\r\n",
        "\\\r\n",
        "The scatterplot shows that even with low total early stage activity, female EI is higher in developed countries, so more women are starting entrepreneurial ventures. This does not seem like the case in developing nations.\\\r\n",
        "\\\r\n",
        "So, for a female entrepreneur there may be more opportunities in developing countries. And for investors, there may be more options in developed nations.\r\n",
        "\r\n",
        "\r\n",
        "\r\n",
        "---\r\n",
        "\r\n"
      ]
    },
    {
      "cell_type": "markdown",
      "metadata": {
        "id": "xzbEVGs8A8kf"
      },
      "source": [
        "### The ratio of female to male entrepreneurs who claim to be driven by opportunity is higher in developed countries."
      ]
    },
    {
      "cell_type": "code",
      "metadata": {
        "id": "DTb6wnMiEO8k"
      },
      "source": [
        "plt.figure(figsize=(10,7))\r\n",
        "figure10 = sns.catplot(y= 'F/M OD TEA', x= 'Level of dev', kind= 'box', data= updated_df)\r\n",
        "plt.suptitle('Female to Male Opportunity Driven TEA in Developed vs. Developing Countries')\r\n",
        "plt.subplots_adjust(top=0.9)\r\n",
        "plt.show(figure10)"
      ],
      "execution_count": null,
      "outputs": []
    },
    {
      "cell_type": "code",
      "metadata": {
        "id": "NcVbNggjGxy2"
      },
      "source": [
        "stats.ttest_ind(dev_countries['F/M OD TEA'], non_dev_countries['F/M OD TEA'])"
      ],
      "execution_count": null,
      "outputs": []
    },
    {
      "cell_type": "code",
      "metadata": {
        "id": "FBWMc58xHIXJ"
      },
      "source": [
        "updated_df['F/M OD TEA'].corr(updated_df['Perceived opportunities'])"
      ],
      "execution_count": null,
      "outputs": []
    },
    {
      "cell_type": "code",
      "metadata": {
        "id": "CM2Nr7CaNtkC"
      },
      "source": [
        "stats.ttest_ind(dev_countries['Perceived opportunities'], non_dev_countries['Perceived opportunities'])"
      ],
      "execution_count": null,
      "outputs": []
    },
    {
      "cell_type": "markdown",
      "metadata": {
        "id": "lUijpTcALtG0"
      },
      "source": [
        "From the calculations above it looks as though, there is higher female to male oppportunity driven early stage activity in developed nations. But from the t-test the difference does not seem statistically significant. \r\n",
        "\r\n",
        "And in a positive light there does not seem to be a significant difference in percieved opportunities between developed and developing countries. \r\n",
        "\r\n",
        "\r\n",
        "---\r\n",
        "\r\n",
        "\r\n"
      ]
    },
    {
      "cell_type": "markdown",
      "metadata": {
        "id": "WPa76KPTa6Y-"
      },
      "source": [
        "## Conclusions##\r\n",
        "\r\n",
        "1. Level of development and EU membership have very strong effects on entrepreneurial index.\r\n",
        "2. Inflation rate of a country does not have a huge effect on female participation.\r\n",
        "3. In countries that already have established female business ventures, fear of failure does not seem to dissuade new businesses.\r\n",
        "4. Developing countries are behind on both new and established female owned businesses. \r\n",
        "\r\n",
        "\r\n",
        "\r\n",
        "---\r\n",
        "\r\n"
      ]
    },
    {
      "cell_type": "markdown",
      "metadata": {
        "id": "mIY0kYeeek06"
      },
      "source": [
        "## Reccomendations##\r\n",
        "\r\n",
        "\r\n",
        "\r\n",
        "1.   For both business investors and female entrepreneurs, developed countries are the safest ber for starting new businesses. \r\n",
        "2.   For women entrepreneurs in developing countries, it may be easier to start a business and have it succeed as there is low participation and thus less competiton.\r\n",
        "3. And for investors, there may be more options in developed nations when looking for investment opportunities. \r\n",
        "\r\n",
        "\r\n",
        "\r\n",
        "---\r\n",
        "\r\n",
        "\r\n"
      ]
    }
  ]
}